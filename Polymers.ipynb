{
 "cells": [
  {
   "cell_type": "code",
   "execution_count": 1,
   "id": "62b5faf0",
   "metadata": {
    "_cell_guid": "b1076dfc-b9ad-4769-8c92-a6c4dae69d19",
    "_uuid": "8f2839f25d086af736a60e9eeb907d3b93b6e0e5",
    "execution": {
     "iopub.execute_input": "2025-07-09T10:21:02.896226Z",
     "iopub.status.busy": "2025-07-09T10:21:02.895845Z",
     "iopub.status.idle": "2025-07-09T10:21:05.310633Z",
     "shell.execute_reply": "2025-07-09T10:21:05.309309Z"
    },
    "papermill": {
     "duration": 2.427861,
     "end_time": "2025-07-09T10:21:05.312711",
     "exception": false,
     "start_time": "2025-07-09T10:21:02.884850",
     "status": "completed"
    },
    "tags": []
   },
   "outputs": [
    {
     "name": "stdout",
     "output_type": "stream",
     "text": [
      "/kaggle/input/tc-smiles/Tc_SMILES.csv\n",
      "/kaggle/input/neurips-open-polymer-prediction-2025/sample_submission.csv\n",
      "/kaggle/input/neurips-open-polymer-prediction-2025/train.csv\n",
      "/kaggle/input/neurips-open-polymer-prediction-2025/test.csv\n",
      "/kaggle/input/neurips-open-polymer-prediction-2025/train_supplement/dataset2.csv\n",
      "/kaggle/input/neurips-open-polymer-prediction-2025/train_supplement/dataset4.csv\n",
      "/kaggle/input/neurips-open-polymer-prediction-2025/train_supplement/dataset1.csv\n",
      "/kaggle/input/neurips-open-polymer-prediction-2025/train_supplement/dataset3.csv\n",
      "/kaggle/input/tg-smiles-pid-polymer-class/TgSS_enriched_cleaned.csv\n",
      "/kaggle/input/rdkit-install-whl/rdkit_wheel/pillow-11.2.1-cp311-cp311-manylinux_2_28_x86_64.whl\n",
      "/kaggle/input/rdkit-install-whl/rdkit_wheel/numpy-2.3.0-cp311-cp311-manylinux_2_28_x86_64.whl\n",
      "/kaggle/input/rdkit-install-whl/rdkit_wheel/rdkit_pypi-2022.9.5-cp311-cp311-manylinux_2_17_x86_64.manylinux2014_x86_64.whl\n"
     ]
    }
   ],
   "source": [
    "# This Python 3 environment comes with many helpful analytics libraries installed\n",
    "# It is defined by the kaggle/python Docker image: https://github.com/kaggle/docker-python\n",
    "# For example, here's several helpful packages to load\n",
    "\n",
    "import numpy as np # linear algebra\n",
    "import pandas as pd # data processing, CSV file I/O (e.g. pd.read_csv)\n",
    "\n",
    "# Input data files are available in the read-only \"../input/\" directory\n",
    "# For example, running this (by clicking run or pressing Shift+Enter) will list all files under the input directory\n",
    "\n",
    "import os\n",
    "for dirname, _, filenames in os.walk('/kaggle/input'):\n",
    "    for filename in filenames:\n",
    "        print(os.path.join(dirname, filename))\n",
    "\n",
    "# You can write up to 20GB to the current directory (/kaggle/working/) that gets preserved as output when you create a version using \"Save & Run All\" \n",
    "# You can also write temporary files to /kaggle/temp/, but they won't be saved outside of the current session"
   ]
  },
  {
   "cell_type": "markdown",
   "id": "aaae895a",
   "metadata": {
    "papermill": {
     "duration": 0.007646,
     "end_time": "2025-07-09T10:21:05.330111",
     "exception": false,
     "start_time": "2025-07-09T10:21:05.322465",
     "status": "completed"
    },
    "tags": []
   },
   "source": [
    "# Welcome to my notebook! I am learning about applying machine learning to predict the properties of polymers."
   ]
  },
  {
   "cell_type": "markdown",
   "id": "b11af569",
   "metadata": {
    "papermill": {
     "duration": 0.007562,
     "end_time": "2025-07-09T10:21:05.345648",
     "exception": false,
     "start_time": "2025-07-09T10:21:05.338086",
     "status": "completed"
    },
    "tags": []
   },
   "source": [
    "The goal of this project is to predict the fundamental properties of polymers to speed up material discovery and development.\n",
    "\n",
    "These properties are:\n",
    "1. Glass Transition Temperature (Tg): Simply put, this is the temperature at which a polymer moves from being stiff and rigid to being flexible.\n",
    "2. Fractional Free volume (FFV): This is the ratio of the free space (between monomers) to the total volume occupied by the polymer.\n",
    "3. Thermal Conductivity (Tc): The ability of the polymer to allow heat pass through it.\n",
    "4. Density: The Density of a polymer refers to how tightly packed the polymer chains are in the materials.\n",
    "5. Radius of Gyration (Rg): This is the square root of the squared average distance between monomers from the polymer's center of mass.\n",
    "\n"
   ]
  },
  {
   "cell_type": "code",
   "execution_count": 2,
   "id": "34ab4549",
   "metadata": {
    "execution": {
     "iopub.execute_input": "2025-07-09T10:21:05.363274Z",
     "iopub.status.busy": "2025-07-09T10:21:05.362717Z",
     "iopub.status.idle": "2025-07-09T10:21:12.783997Z",
     "shell.execute_reply": "2025-07-09T10:21:12.782347Z"
    },
    "papermill": {
     "duration": 7.432955,
     "end_time": "2025-07-09T10:21:12.786585",
     "exception": false,
     "start_time": "2025-07-09T10:21:05.353630",
     "status": "completed"
    },
    "tags": []
   },
   "outputs": [],
   "source": [
    "#This allows us to install RDkit for offline use\n",
    "\n",
    "!pip -q install /kaggle/input/rdkit-install-whl/rdkit_wheel/rdkit_pypi-2022.9.5-cp311-cp311-manylinux_2_17_x86_64.manylinux2014_x86_64.whl"
   ]
  },
  {
   "cell_type": "markdown",
   "id": "27e94c7c",
   "metadata": {
    "papermill": {
     "duration": 0.008233,
     "end_time": "2025-07-09T10:21:12.802984",
     "exception": false,
     "start_time": "2025-07-09T10:21:12.794751",
     "status": "completed"
    },
    "tags": []
   },
   "source": [
    "RDKit is an open-source cheminformatics software toolkit written in C++ and Python. It provides a wide range of tools for manipulating, analyzing, and visualizing chemical information, making it valuable in cheminformatics, computational chemistry, and machine learning applications, particularly in drug discovery and materials science.\n",
    "\n",
    "RDKit enables us to see the structural formula of compounds like benzene, alcohol etc using python"
   ]
  },
  {
   "cell_type": "code",
   "execution_count": 3,
   "id": "efbe234b",
   "metadata": {
    "execution": {
     "iopub.execute_input": "2025-07-09T10:21:12.820624Z",
     "iopub.status.busy": "2025-07-09T10:21:12.820219Z",
     "iopub.status.idle": "2025-07-09T10:21:16.517270Z",
     "shell.execute_reply": "2025-07-09T10:21:16.516259Z"
    },
    "papermill": {
     "duration": 3.708437,
     "end_time": "2025-07-09T10:21:16.519265",
     "exception": false,
     "start_time": "2025-07-09T10:21:12.810828",
     "status": "completed"
    },
    "tags": []
   },
   "outputs": [],
   "source": [
    "import numpy as np\n",
    "import pandas as pd\n",
    "import seaborn as sns\n",
    "import matplotlib.pyplot as plt\n",
    "import optuna\n",
    "from tqdm.notebook import tqdm\n",
    "import xgboost as xgb\n",
    "from sklearn.ensemble import RandomForestRegressor\n",
    "from sklearn.model_selection import train_test_split\n",
    "from sklearn.metrics import mean_absolute_error\n",
    "from sklearn.model_selection import GroupKFold, KFold\n",
    "from rdkit import Chem  #a chemical library used for reading, interpreting and manipulating SMILES strings\n",
    "from rdkit.Chem import Descriptors, Lipinski, rdMolDescriptors, Fragments, AllChem, Draw\n",
    "import warnings\n",
    "warnings.filterwarnings(\"ignore\")\n",
    "import logging #silencing logs\n",
    "\n",
    "#====Removes optuna messages while running====#\n",
    "optuna.logging.set_verbosity(optuna.logging.WARNING)\n",
    "logging.getLogger('optuna').setLevel(logging.WARNING)\n",
    "\n",
    "#from pathlib import Path #Handles file paths cleaner"
   ]
  },
  {
   "cell_type": "code",
   "execution_count": 4,
   "id": "ac603024",
   "metadata": {
    "execution": {
     "iopub.execute_input": "2025-07-09T10:21:16.536920Z",
     "iopub.status.busy": "2025-07-09T10:21:16.535536Z",
     "iopub.status.idle": "2025-07-09T10:21:16.542385Z",
     "shell.execute_reply": "2025-07-09T10:21:16.541346Z"
    },
    "papermill": {
     "duration": 0.017004,
     "end_time": "2025-07-09T10:21:16.544067",
     "exception": false,
     "start_time": "2025-07-09T10:21:16.527063",
     "status": "completed"
    },
    "tags": []
   },
   "outputs": [],
   "source": [
    "# create some configuration settings\n",
    "\n",
    "class config_settings():\n",
    "    def __init__(self):\n",
    "        #General settings\n",
    "        self.use_gpu = True\n",
    "        self.gpu_id = 0\n",
    "        self.random_state = 1\n",
    "\n",
    "        #Training\n",
    "        self.n_folds = 5\n",
    "        #self.max_iterations = 10000\n",
    "        self.early_stopping = 100\n",
    "        self.optuna_trials = 100\n",
    "        self.verbose_eval = 100\n",
    "\n",
    "        #Target and dirs\n",
    "        self.target_cols = [\"Tg\", \"FFV\", \"Tc\", \"Density\", \"Rg\"]\n",
    "        #self.study_dir = Path(\"Studies\")\n",
    "        #self.model_dir = Path(\"Models\")\n",
    "        #self.study_dir.mkdir(parents=True, exist_ok=True)\n",
    "        #self.model_dir.mkdir(parents=True, exist_ok=True)"
   ]
  },
  {
   "cell_type": "code",
   "execution_count": 5,
   "id": "7015dae8",
   "metadata": {
    "execution": {
     "iopub.execute_input": "2025-07-09T10:21:16.561640Z",
     "iopub.status.busy": "2025-07-09T10:21:16.561111Z",
     "iopub.status.idle": "2025-07-09T10:21:16.568236Z",
     "shell.execute_reply": "2025-07-09T10:21:16.567041Z"
    },
    "papermill": {
     "duration": 0.017886,
     "end_time": "2025-07-09T10:21:16.569857",
     "exception": false,
     "start_time": "2025-07-09T10:21:16.551971",
     "status": "completed"
    },
    "tags": []
   },
   "outputs": [],
   "source": [
    "#some polymer molecules can be written in different ways with the SMILES representation\n",
    "# To avoid treating the polymer differently during analysis whereas it's the same, we conver SMILES to Canonical SMILES\n",
    "# What this does is to ensure that the SMILE text for the same polymers are identical.\n",
    "\n",
    "def convert_to_canonical_smiles(smiles):\n",
    "    try:\n",
    "        mol = Chem.MolFromSmiles(smiles)\n",
    "        if mol:\n",
    "            return Chem.MolToSmiles(mol, canonical=True)\n",
    "        return smiles\n",
    "\n",
    "    except:\n",
    "        return smiles"
   ]
  },
  {
   "cell_type": "markdown",
   "id": "2625764f",
   "metadata": {
    "papermill": {
     "duration": 0.007243,
     "end_time": "2025-07-09T10:21:16.584823",
     "exception": false,
     "start_time": "2025-07-09T10:21:16.577580",
     "status": "completed"
    },
    "tags": []
   },
   "source": [
    "What is SMILES?\n",
    "SMILES stands for Simplified Molecular Input line entry system. \n",
    "SMILES is simply a textual representation of the structure of a molecule (molecular structure written as text)\n",
    "For example:\n",
    "- Propane (C3H8) -> CCC \n",
    "- Ethene (C2H4) -> C=C\n",
    "- Propyne (C3H4) -> C#CC\n",
    "- Benzene (C6H6) -> c1ccccc1 (lowercase letters for aromatic compounds)\n",
    "- Ethanol (C2H5OH) -> CC(O)\n",
    "- Isobutane (CH3CH(CH3)2) -> CC(C)C\n",
    "- Tert-butanol ((CH3)2OHCH3) -> CC(C)(C)O\n",
    "\n",
    "There are two ways of encoding SMILES data to a format ML models can understand:\n",
    "1. Molecular Fingerprints\n",
    "2. Sequence Models\n",
    "\n",
    "More on this later..."
   ]
  },
  {
   "cell_type": "code",
   "execution_count": 6,
   "id": "7e90673a",
   "metadata": {
    "execution": {
     "iopub.execute_input": "2025-07-09T10:21:16.601823Z",
     "iopub.status.busy": "2025-07-09T10:21:16.601307Z",
     "iopub.status.idle": "2025-07-09T10:21:16.687809Z",
     "shell.execute_reply": "2025-07-09T10:21:16.686579Z"
    },
    "papermill": {
     "duration": 0.097686,
     "end_time": "2025-07-09T10:21:16.690018",
     "exception": false,
     "start_time": "2025-07-09T10:21:16.592332",
     "status": "completed"
    },
    "tags": []
   },
   "outputs": [
    {
     "data": {
      "text/html": [
       "<div>\n",
       "<style scoped>\n",
       "    .dataframe tbody tr th:only-of-type {\n",
       "        vertical-align: middle;\n",
       "    }\n",
       "\n",
       "    .dataframe tbody tr th {\n",
       "        vertical-align: top;\n",
       "    }\n",
       "\n",
       "    .dataframe thead th {\n",
       "        text-align: right;\n",
       "    }\n",
       "</style>\n",
       "<table border=\"1\" class=\"dataframe\">\n",
       "  <thead>\n",
       "    <tr style=\"text-align: right;\">\n",
       "      <th></th>\n",
       "      <th>id</th>\n",
       "      <th>SMILES</th>\n",
       "      <th>Tg</th>\n",
       "      <th>FFV</th>\n",
       "      <th>Tc</th>\n",
       "      <th>Density</th>\n",
       "      <th>Rg</th>\n",
       "    </tr>\n",
       "  </thead>\n",
       "  <tbody>\n",
       "    <tr>\n",
       "      <th>0</th>\n",
       "      <td>87817</td>\n",
       "      <td>*CC(*)c1ccccc1C(=O)OCCCCCC</td>\n",
       "      <td>NaN</td>\n",
       "      <td>0.374645</td>\n",
       "      <td>0.205667</td>\n",
       "      <td>NaN</td>\n",
       "      <td>NaN</td>\n",
       "    </tr>\n",
       "    <tr>\n",
       "      <th>1</th>\n",
       "      <td>106919</td>\n",
       "      <td>*Nc1ccc([C@H](CCC)c2ccc(C3(c4ccc([C@@H](CCC)c5...</td>\n",
       "      <td>NaN</td>\n",
       "      <td>0.370410</td>\n",
       "      <td>NaN</td>\n",
       "      <td>NaN</td>\n",
       "      <td>NaN</td>\n",
       "    </tr>\n",
       "    <tr>\n",
       "      <th>2</th>\n",
       "      <td>388772</td>\n",
       "      <td>*Oc1ccc(S(=O)(=O)c2ccc(Oc3ccc(C4(c5ccc(Oc6ccc(...</td>\n",
       "      <td>NaN</td>\n",
       "      <td>0.378860</td>\n",
       "      <td>NaN</td>\n",
       "      <td>NaN</td>\n",
       "      <td>NaN</td>\n",
       "    </tr>\n",
       "    <tr>\n",
       "      <th>3</th>\n",
       "      <td>519416</td>\n",
       "      <td>*Nc1ccc(-c2c(-c3ccc(C)cc3)c(-c3ccc(C)cc3)c(N*)...</td>\n",
       "      <td>NaN</td>\n",
       "      <td>0.387324</td>\n",
       "      <td>NaN</td>\n",
       "      <td>NaN</td>\n",
       "      <td>NaN</td>\n",
       "    </tr>\n",
       "    <tr>\n",
       "      <th>4</th>\n",
       "      <td>539187</td>\n",
       "      <td>*Oc1ccc(OC(=O)c2cc(OCCCCCCCCCOCC3CCCN3c3ccc([N...</td>\n",
       "      <td>NaN</td>\n",
       "      <td>0.355470</td>\n",
       "      <td>NaN</td>\n",
       "      <td>NaN</td>\n",
       "      <td>NaN</td>\n",
       "    </tr>\n",
       "  </tbody>\n",
       "</table>\n",
       "</div>"
      ],
      "text/plain": [
       "       id                                             SMILES  Tg       FFV  \\\n",
       "0   87817                         *CC(*)c1ccccc1C(=O)OCCCCCC NaN  0.374645   \n",
       "1  106919  *Nc1ccc([C@H](CCC)c2ccc(C3(c4ccc([C@@H](CCC)c5... NaN  0.370410   \n",
       "2  388772  *Oc1ccc(S(=O)(=O)c2ccc(Oc3ccc(C4(c5ccc(Oc6ccc(... NaN  0.378860   \n",
       "3  519416  *Nc1ccc(-c2c(-c3ccc(C)cc3)c(-c3ccc(C)cc3)c(N*)... NaN  0.387324   \n",
       "4  539187  *Oc1ccc(OC(=O)c2cc(OCCCCCCCCCOCC3CCCN3c3ccc([N... NaN  0.355470   \n",
       "\n",
       "         Tc  Density  Rg  \n",
       "0  0.205667      NaN NaN  \n",
       "1       NaN      NaN NaN  \n",
       "2       NaN      NaN NaN  \n",
       "3       NaN      NaN NaN  \n",
       "4       NaN      NaN NaN  "
      ]
     },
     "execution_count": 6,
     "metadata": {},
     "output_type": "execute_result"
    }
   ],
   "source": [
    "#load the data\n",
    "data1 = pd.read_csv(\"/kaggle/input/neurips-open-polymer-prediction-2025/train.csv\")\n",
    "data2 = pd.read_csv(\"/kaggle/input/neurips-open-polymer-prediction-2025/test.csv\")\n",
    "data1.head()"
   ]
  },
  {
   "cell_type": "code",
   "execution_count": 7,
   "id": "455fc86a",
   "metadata": {
    "execution": {
     "iopub.execute_input": "2025-07-09T10:21:16.707727Z",
     "iopub.status.busy": "2025-07-09T10:21:16.706530Z",
     "iopub.status.idle": "2025-07-09T10:21:16.743956Z",
     "shell.execute_reply": "2025-07-09T10:21:16.742632Z"
    },
    "papermill": {
     "duration": 0.048205,
     "end_time": "2025-07-09T10:21:16.745910",
     "exception": false,
     "start_time": "2025-07-09T10:21:16.697705",
     "status": "completed"
    },
    "tags": []
   },
   "outputs": [
    {
     "name": "stdout",
     "output_type": "stream",
     "text": [
      "<class 'pandas.core.frame.DataFrame'>\n",
      "RangeIndex: 7973 entries, 0 to 7972\n",
      "Data columns (total 7 columns):\n",
      " #   Column   Non-Null Count  Dtype  \n",
      "---  ------   --------------  -----  \n",
      " 0   id       7973 non-null   int64  \n",
      " 1   SMILES   7973 non-null   object \n",
      " 2   Tg       511 non-null    float64\n",
      " 3   FFV      7030 non-null   float64\n",
      " 4   Tc       737 non-null    float64\n",
      " 5   Density  613 non-null    float64\n",
      " 6   Rg       614 non-null    float64\n",
      "dtypes: float64(5), int64(1), object(1)\n",
      "memory usage: 436.2+ KB\n"
     ]
    }
   ],
   "source": [
    "data1.info()"
   ]
  },
  {
   "cell_type": "code",
   "execution_count": 8,
   "id": "1a4e1a78",
   "metadata": {
    "execution": {
     "iopub.execute_input": "2025-07-09T10:21:16.764224Z",
     "iopub.status.busy": "2025-07-09T10:21:16.763054Z",
     "iopub.status.idle": "2025-07-09T10:21:16.808651Z",
     "shell.execute_reply": "2025-07-09T10:21:16.807501Z"
    },
    "papermill": {
     "duration": 0.056629,
     "end_time": "2025-07-09T10:21:16.810504",
     "exception": false,
     "start_time": "2025-07-09T10:21:16.753875",
     "status": "completed"
    },
    "tags": []
   },
   "outputs": [
    {
     "data": {
      "text/html": [
       "<div>\n",
       "<style scoped>\n",
       "    .dataframe tbody tr th:only-of-type {\n",
       "        vertical-align: middle;\n",
       "    }\n",
       "\n",
       "    .dataframe tbody tr th {\n",
       "        vertical-align: top;\n",
       "    }\n",
       "\n",
       "    .dataframe thead th {\n",
       "        text-align: right;\n",
       "    }\n",
       "</style>\n",
       "<table border=\"1\" class=\"dataframe\">\n",
       "  <thead>\n",
       "    <tr style=\"text-align: right;\">\n",
       "      <th></th>\n",
       "      <th>count</th>\n",
       "      <th>mean</th>\n",
       "      <th>std</th>\n",
       "      <th>min</th>\n",
       "      <th>25%</th>\n",
       "      <th>50%</th>\n",
       "      <th>75%</th>\n",
       "      <th>max</th>\n",
       "    </tr>\n",
       "  </thead>\n",
       "  <tbody>\n",
       "    <tr>\n",
       "      <th>id</th>\n",
       "      <td>7973.0</td>\n",
       "      <td>1.080050e+09</td>\n",
       "      <td>6.218241e+08</td>\n",
       "      <td>87817.000000</td>\n",
       "      <td>5.376641e+08</td>\n",
       "      <td>1.079079e+09</td>\n",
       "      <td>1.621708e+09</td>\n",
       "      <td>2.147438e+09</td>\n",
       "    </tr>\n",
       "    <tr>\n",
       "      <th>Tg</th>\n",
       "      <td>511.0</td>\n",
       "      <td>9.645231e+01</td>\n",
       "      <td>1.112283e+02</td>\n",
       "      <td>-148.029738</td>\n",
       "      <td>1.367451e+01</td>\n",
       "      <td>7.404018e+01</td>\n",
       "      <td>1.611476e+02</td>\n",
       "      <td>4.722500e+02</td>\n",
       "    </tr>\n",
       "    <tr>\n",
       "      <th>FFV</th>\n",
       "      <td>7030.0</td>\n",
       "      <td>3.672120e-01</td>\n",
       "      <td>2.960878e-02</td>\n",
       "      <td>0.226992</td>\n",
       "      <td>3.495489e-01</td>\n",
       "      <td>3.642636e-01</td>\n",
       "      <td>3.807900e-01</td>\n",
       "      <td>7.770971e-01</td>\n",
       "    </tr>\n",
       "    <tr>\n",
       "      <th>Tc</th>\n",
       "      <td>737.0</td>\n",
       "      <td>2.563341e-01</td>\n",
       "      <td>8.953785e-02</td>\n",
       "      <td>0.046500</td>\n",
       "      <td>1.860000e-01</td>\n",
       "      <td>2.360000e-01</td>\n",
       "      <td>3.305000e-01</td>\n",
       "      <td>5.240000e-01</td>\n",
       "    </tr>\n",
       "    <tr>\n",
       "      <th>Density</th>\n",
       "      <td>613.0</td>\n",
       "      <td>9.854844e-01</td>\n",
       "      <td>1.461892e-01</td>\n",
       "      <td>0.748691</td>\n",
       "      <td>8.902434e-01</td>\n",
       "      <td>9.481932e-01</td>\n",
       "      <td>1.062096e+00</td>\n",
       "      <td>1.840999e+00</td>\n",
       "    </tr>\n",
       "    <tr>\n",
       "      <th>Rg</th>\n",
       "      <td>614.0</td>\n",
       "      <td>1.641979e+01</td>\n",
       "      <td>4.608640e+00</td>\n",
       "      <td>9.728355</td>\n",
       "      <td>1.254033e+01</td>\n",
       "      <td>1.505219e+01</td>\n",
       "      <td>2.041107e+01</td>\n",
       "      <td>3.467291e+01</td>\n",
       "    </tr>\n",
       "  </tbody>\n",
       "</table>\n",
       "</div>"
      ],
      "text/plain": [
       "          count          mean           std           min           25%  \\\n",
       "id       7973.0  1.080050e+09  6.218241e+08  87817.000000  5.376641e+08   \n",
       "Tg        511.0  9.645231e+01  1.112283e+02   -148.029738  1.367451e+01   \n",
       "FFV      7030.0  3.672120e-01  2.960878e-02      0.226992  3.495489e-01   \n",
       "Tc        737.0  2.563341e-01  8.953785e-02      0.046500  1.860000e-01   \n",
       "Density   613.0  9.854844e-01  1.461892e-01      0.748691  8.902434e-01   \n",
       "Rg        614.0  1.641979e+01  4.608640e+00      9.728355  1.254033e+01   \n",
       "\n",
       "                  50%           75%           max  \n",
       "id       1.079079e+09  1.621708e+09  2.147438e+09  \n",
       "Tg       7.404018e+01  1.611476e+02  4.722500e+02  \n",
       "FFV      3.642636e-01  3.807900e-01  7.770971e-01  \n",
       "Tc       2.360000e-01  3.305000e-01  5.240000e-01  \n",
       "Density  9.481932e-01  1.062096e+00  1.840999e+00  \n",
       "Rg       1.505219e+01  2.041107e+01  3.467291e+01  "
      ]
     },
     "execution_count": 8,
     "metadata": {},
     "output_type": "execute_result"
    }
   ],
   "source": [
    "data1.describe().T"
   ]
  },
  {
   "cell_type": "code",
   "execution_count": 9,
   "id": "81785611",
   "metadata": {
    "execution": {
     "iopub.execute_input": "2025-07-09T10:21:16.830051Z",
     "iopub.status.busy": "2025-07-09T10:21:16.829544Z",
     "iopub.status.idle": "2025-07-09T10:21:16.837649Z",
     "shell.execute_reply": "2025-07-09T10:21:16.836673Z"
    },
    "papermill": {
     "duration": 0.020135,
     "end_time": "2025-07-09T10:21:16.839259",
     "exception": false,
     "start_time": "2025-07-09T10:21:16.819124",
     "status": "completed"
    },
    "tags": []
   },
   "outputs": [],
   "source": [
    "df1=data1.copy()\n",
    "dfx = data1.copy()\n",
    "df2 = data2.copy()\n",
    "cfg = config_settings()\n",
    "target_cols = cfg.target_cols"
   ]
  },
  {
   "cell_type": "code",
   "execution_count": 10,
   "id": "f074c8b3",
   "metadata": {
    "execution": {
     "iopub.execute_input": "2025-07-09T10:21:16.858620Z",
     "iopub.status.busy": "2025-07-09T10:21:16.857614Z",
     "iopub.status.idle": "2025-07-09T10:21:16.864332Z",
     "shell.execute_reply": "2025-07-09T10:21:16.863311Z"
    },
    "papermill": {
     "duration": 0.018584,
     "end_time": "2025-07-09T10:21:16.866444",
     "exception": false,
     "start_time": "2025-07-09T10:21:16.847860",
     "status": "completed"
    },
    "tags": []
   },
   "outputs": [],
   "source": [
    "# Calculate descriptors from Smiles\n",
    "#def get_descriptors(smiles):\n",
    "#    mol = Chem.MolFromSmiles(smiles)\n",
    "#    if not mol:\n",
    "#        return pd.Series([None]*16)\n",
    "#    return pd.Series([\n",
    "#        Descriptors.MolWt(mol),                             \n",
    "#        rdMolDescriptors.CalcNumRings(mol),                 \n",
    "#        Descriptors.MolLogP(mol),\n",
    "#        Lipinski.NumRotatableBonds(mol),\n",
    "#        Descriptors.HeavyAtomCount(mol),\n",
    "#        rdMolDescriptors.CalcNumAromaticRings(mol),\n",
    "#        rdMolDescriptors.CalcNumAliphaticRings(mol),\n",
    "#        Descriptors.TPSA(mol),\n",
    " #       Lipinski.NumHAcceptors(mol),\n",
    " #       Lipinski.NumHDonors(mol),\n",
    " #       Descriptors.BertzCT(mol),\n",
    "#        Descriptors.BalabanJ(mol),\n",
    "#        Fragments.fr_ether(mol),\n",
    " #       Fragments.fr_ester(mol),\n",
    " #       Fragments.fr_amide(mol),\n",
    "  #  ])\n",
    "\n",
    "#dfx[['MolWt', 'RingCount', 'LogP','NumRotatableBonds','HeavyAtomCount',\n",
    "#    'CalcNumAromaticRings','CalcNumAliphaticRings','NumHAcceptors','TPSA',\n",
    "#    'NumHDonors','BertzCT','BalabanJ','Num_Ether','Num_Ester','Num_Amide']] = dfx['SMILES'].apply(get_descriptors)\n",
    "\n",
    "#for target in target_cols:\n",
    "#    miss_col = f\"{target}_missing\"\n",
    "    # 1 represent missing value while 0 represent non-null values\n",
    " #   dfx[miss_col] = dfx[target].isnull().astype(int)  \n",
    "    \n",
    " #   print(f\"\\n Checking missing pattern for {target}...\")\n",
    "\n",
    " #   for desc in ['MolWt', 'RingCount', 'LogP','NumRotatableBonds','HeavyAtomCount',\n",
    " #   'CalcNumAromaticRings','CalcNumAliphaticRings','NumHAcceptors','TPSA',\n",
    "  #  'NumHDonors','BertzCT','BalabanJ','Num_Ether','Num_Ester','Num_Amide']:\n",
    " #       plt.figure(figsize=(5, 4))\n",
    " #       sns.barplot(x=miss_col, y=desc, data=dfx)\n",
    " #       plt.xticks([0, 1], [f'{target} present', f'{target} missing'])\n",
    " #       plt.title(f\"Avg {desc} when {target} is present vs missing\")\n",
    " #       plt.xlabel(\"\")\n",
    " #       plt.ylabel(desc)\n",
    " #       plt.tight_layout()\n",
    "  #      plt.show()\n"
   ]
  },
  {
   "cell_type": "code",
   "execution_count": 11,
   "id": "62073991",
   "metadata": {
    "execution": {
     "iopub.execute_input": "2025-07-09T10:21:16.891596Z",
     "iopub.status.busy": "2025-07-09T10:21:16.890691Z",
     "iopub.status.idle": "2025-07-09T10:21:16.896240Z",
     "shell.execute_reply": "2025-07-09T10:21:16.894507Z"
    },
    "papermill": {
     "duration": 0.017285,
     "end_time": "2025-07-09T10:21:16.898221",
     "exception": false,
     "start_time": "2025-07-09T10:21:16.880936",
     "status": "completed"
    },
    "tags": []
   },
   "outputs": [],
   "source": [
    "#plt.figure(figsize=(6,4))\n",
    "\n",
    "#sns.heatmap(dfx[target_cols].corr(),annot=False, cbar=True, cmap=sns.diverging_palette(240,10))\n",
    "#plt.show()"
   ]
  },
  {
   "cell_type": "code",
   "execution_count": 12,
   "id": "5eb7faee",
   "metadata": {
    "execution": {
     "iopub.execute_input": "2025-07-09T10:21:16.926392Z",
     "iopub.status.busy": "2025-07-09T10:21:16.925304Z",
     "iopub.status.idle": "2025-07-09T10:21:16.933676Z",
     "shell.execute_reply": "2025-07-09T10:21:16.932504Z"
    },
    "papermill": {
     "duration": 0.026026,
     "end_time": "2025-07-09T10:21:16.935488",
     "exception": false,
     "start_time": "2025-07-09T10:21:16.909462",
     "status": "completed"
    },
    "tags": []
   },
   "outputs": [
    {
     "data": {
      "text/plain": [
       "\"fig, axes = plt.subplots(2,3,figsize=(15,8))\\n\\nsns.histplot(data1['Tg'], kde=True, ax=axes[0,0])\\naxes[0,0].set_title('Transition glass temperature')\\naxes[0,0].set_xlabel('Tg')\\n\\nsns.histplot(data1['FFV'], kde=True, ax=axes[0,1])\\naxes[0,1].set_title('Fractional Free Volume')\\naxes[0,1].set_xlabel('FFV')\\n\\nsns.histplot(data1['Tc'], kde=True, ax=axes[0,2])\\naxes[0,2].set_title('Thermal conductivity')\\naxes[0,2].set_xlabel('Tc')\\n\\nsns.histplot(data1['Density'], kde=True, ax=axes[1,0])\\naxes[1,0].set_title('Density')\\naxes[1,0].set_xlabel('Density')\\n\\nsns.histplot(data1['Rg'], kde=True, ax=axes[1,1])\\naxes[1,1].set_title('Radius of Gyration')\\naxes[1,1].set_xlabel('Radius of Gyration')\\n\\naxes[1,2].axis('off')\\n\\nplt.tight_layout()\\nplt.show()\""
      ]
     },
     "execution_count": 12,
     "metadata": {},
     "output_type": "execute_result"
    }
   ],
   "source": [
    "'''fig, axes = plt.subplots(2,3,figsize=(15,8))\n",
    "\n",
    "sns.histplot(data1['Tg'], kde=True, ax=axes[0,0])\n",
    "axes[0,0].set_title('Transition glass temperature')\n",
    "axes[0,0].set_xlabel('Tg')\n",
    "\n",
    "sns.histplot(data1['FFV'], kde=True, ax=axes[0,1])\n",
    "axes[0,1].set_title('Fractional Free Volume')\n",
    "axes[0,1].set_xlabel('FFV')\n",
    "\n",
    "sns.histplot(data1['Tc'], kde=True, ax=axes[0,2])\n",
    "axes[0,2].set_title('Thermal conductivity')\n",
    "axes[0,2].set_xlabel('Tc')\n",
    "\n",
    "sns.histplot(data1['Density'], kde=True, ax=axes[1,0])\n",
    "axes[1,0].set_title('Density')\n",
    "axes[1,0].set_xlabel('Density')\n",
    "\n",
    "sns.histplot(data1['Rg'], kde=True, ax=axes[1,1])\n",
    "axes[1,1].set_title('Radius of Gyration')\n",
    "axes[1,1].set_xlabel('Radius of Gyration')\n",
    "\n",
    "axes[1,2].axis('off')\n",
    "\n",
    "plt.tight_layout()\n",
    "plt.show()'''"
   ]
  },
  {
   "cell_type": "code",
   "execution_count": 13,
   "id": "7aab96a8",
   "metadata": {
    "execution": {
     "iopub.execute_input": "2025-07-09T10:21:16.955890Z",
     "iopub.status.busy": "2025-07-09T10:21:16.955462Z",
     "iopub.status.idle": "2025-07-09T10:21:16.959859Z",
     "shell.execute_reply": "2025-07-09T10:21:16.958822Z"
    },
    "papermill": {
     "duration": 0.016684,
     "end_time": "2025-07-09T10:21:16.961855",
     "exception": false,
     "start_time": "2025-07-09T10:21:16.945171",
     "status": "completed"
    },
    "tags": []
   },
   "outputs": [],
   "source": [
    "#Let's visualize a polymer molecule\n",
    "#m1 = Chem.MolFromSmiles(\"*CC(*)c1ccccc1C(=O)OCCCCCC\")\n",
    "#m1"
   ]
  },
  {
   "cell_type": "code",
   "execution_count": 14,
   "id": "2e465fdf",
   "metadata": {
    "execution": {
     "iopub.execute_input": "2025-07-09T10:21:17.088989Z",
     "iopub.status.busy": "2025-07-09T10:21:17.088505Z",
     "iopub.status.idle": "2025-07-09T10:21:17.093885Z",
     "shell.execute_reply": "2025-07-09T10:21:17.092730Z"
    },
    "papermill": {
     "duration": 0.017852,
     "end_time": "2025-07-09T10:21:17.095986",
     "exception": false,
     "start_time": "2025-07-09T10:21:17.078134",
     "status": "completed"
    },
    "tags": []
   },
   "outputs": [],
   "source": [
    "#mols_list = []  #list to store the polymer molecules after converting from SMILES\n",
    "\n",
    "#code snippet to visualize the top 6 polymer molecules in the training dataset\n",
    "#for smiles in df1['SMILES'].head(6):\n",
    "#    mols = Chem.MolFromSmiles(smiles)\n",
    "#    mols_list.append(mols)\n",
    "\n",
    "#mol_imgs = Draw.MolsToGridImage(mols_list, molsPerRow=3, subImgSize=(800,300))\n",
    "#mol_imgs"
   ]
  },
  {
   "cell_type": "code",
   "execution_count": 15,
   "id": "d588a548",
   "metadata": {
    "execution": {
     "iopub.execute_input": "2025-07-09T10:21:17.117067Z",
     "iopub.status.busy": "2025-07-09T10:21:17.116685Z",
     "iopub.status.idle": "2025-07-09T10:21:17.123094Z",
     "shell.execute_reply": "2025-07-09T10:21:17.122184Z"
    },
    "papermill": {
     "duration": 0.017693,
     "end_time": "2025-07-09T10:21:17.124814",
     "exception": false,
     "start_time": "2025-07-09T10:21:17.107121",
     "status": "completed"
    },
    "tags": []
   },
   "outputs": [
    {
     "data": {
      "text/plain": [
       "'for mols in mols_list:\\n    molwt = Descriptors.MolWt(mols)\\n    val_electrons = Descriptors.NumValenceElectrons(mols)\\n    rot_bonds = Descriptors.NumRotatableBonds(mols)\\n    ring_counts = Descriptors.RingCount(mols)\\n    h_donors = Descriptors.NumHDonors(mols)\\n    r_bonds = Descriptors.NumRotatableBonds(mols)\\n    print(\"Molecule:\", Chem.MolToSmiles(mols))\\n    print(\"Molecular weight:\", molwt)\\n    print(\"Valence electrons:\", val_electrons)\\n    print(\"Number of Rotatable Bonds:\", rot_bonds)\\n    print(\"Number of Ring counts:\", ring_counts)\\n    print(\"Number of Hydrogen donors:\", h_donors)\\n    print(\"Number of Rotatable bonds:\", r_bonds)\\n    print(\"-\" * 30)'"
      ]
     },
     "execution_count": 15,
     "metadata": {},
     "output_type": "execute_result"
    }
   ],
   "source": [
    "#Lets see some information about the polymers\n",
    "'''for mols in mols_list:\n",
    "    molwt = Descriptors.MolWt(mols)\n",
    "    val_electrons = Descriptors.NumValenceElectrons(mols)\n",
    "    rot_bonds = Descriptors.NumRotatableBonds(mols)\n",
    "    ring_counts = Descriptors.RingCount(mols)\n",
    "    h_donors = Descriptors.NumHDonors(mols)\n",
    "    r_bonds = Descriptors.NumRotatableBonds(mols)\n",
    "    print(\"Molecule:\", Chem.MolToSmiles(mols))\n",
    "    print(\"Molecular weight:\", molwt)\n",
    "    print(\"Valence electrons:\", val_electrons)\n",
    "    print(\"Number of Rotatable Bonds:\", rot_bonds)\n",
    "    print(\"Number of Ring counts:\", ring_counts)\n",
    "    print(\"Number of Hydrogen donors:\", h_donors)\n",
    "    print(\"Number of Rotatable bonds:\", r_bonds)\n",
    "    print(\"-\" * 30)'''"
   ]
  },
  {
   "cell_type": "markdown",
   "id": "f99f0551",
   "metadata": {
    "papermill": {
     "duration": 0.008297,
     "end_time": "2025-07-09T10:21:17.141881",
     "exception": false,
     "start_time": "2025-07-09T10:21:17.133584",
     "status": "completed"
    },
    "tags": []
   },
   "source": [
    "Sometimes a molecule can be represented with more than one SMILES texts. If not handled properly during featurization, the molecule properties will be different for the same molecule. For example ethanol can be represented like this:\n",
    "\n",
    "CCO and C(C)O\n",
    "\n",
    "Both are ethanol but the arrangement is different, if not handled, the calculated properties will be different.\n",
    "To handle this, we canonize the SMILES text. This ensures that any molecule having more than one SMILES representation are written in the same way. For ethanol C(C)O will become CCO.\n",
    "\n",
    "Why do this?\n",
    "\n",
    "Canonizing the SMILES texts will help us identify duplicates very easily. Think about it!\n",
    "\n",
    "Checking for duplicates without canonizing the SMILES text would return no duplicates found. But if we canonize the SMILES, any molecule with different SMILES text would be the same and thus we can easily get rid of the duplicates."
   ]
  },
  {
   "cell_type": "code",
   "execution_count": 16,
   "id": "769c3cd4",
   "metadata": {
    "execution": {
     "iopub.execute_input": "2025-07-09T10:21:17.162016Z",
     "iopub.status.busy": "2025-07-09T10:21:17.161660Z",
     "iopub.status.idle": "2025-07-09T10:21:20.920674Z",
     "shell.execute_reply": "2025-07-09T10:21:20.919530Z"
    },
    "papermill": {
     "duration": 3.771614,
     "end_time": "2025-07-09T10:21:20.922576",
     "exception": false,
     "start_time": "2025-07-09T10:21:17.150962",
     "status": "completed"
    },
    "tags": []
   },
   "outputs": [
    {
     "name": "stdout",
     "output_type": "stream",
     "text": [
      "Converting to SMILES to Canonical SMILES...\n",
      "All Finished!\n"
     ]
    }
   ],
   "source": [
    "#Convert SMILES to Canonical SMILES for both train and test data\n",
    "df1['SMILES'] = df1['SMILES'].apply(convert_to_canonical_smiles)\n",
    "df2['SMILES'] = df2['SMILES'].apply(convert_to_canonical_smiles)\n",
    "\n",
    "print(\"Converting to SMILES to Canonical SMILES...\")\n",
    "df1 = df1.dropna(subset=['SMILES'])\n",
    "df2 = df2.dropna(subset=['SMILES'])\n",
    "print('All Finished!')"
   ]
  },
  {
   "cell_type": "code",
   "execution_count": 17,
   "id": "8164dd62",
   "metadata": {
    "execution": {
     "iopub.execute_input": "2025-07-09T10:21:20.943401Z",
     "iopub.status.busy": "2025-07-09T10:21:20.942359Z",
     "iopub.status.idle": "2025-07-09T10:21:20.950642Z",
     "shell.execute_reply": "2025-07-09T10:21:20.949773Z"
    },
    "papermill": {
     "duration": 0.020294,
     "end_time": "2025-07-09T10:21:20.952231",
     "exception": false,
     "start_time": "2025-07-09T10:21:20.931937",
     "status": "completed"
    },
    "tags": []
   },
   "outputs": [
    {
     "data": {
      "text/plain": [
       "False"
      ]
     },
     "execution_count": 17,
     "metadata": {},
     "output_type": "execute_result"
    }
   ],
   "source": [
    "#check for duplicates\n",
    "df1['SMILES'].duplicated().any()"
   ]
  },
  {
   "cell_type": "code",
   "execution_count": 18,
   "id": "7b28dded",
   "metadata": {
    "execution": {
     "iopub.execute_input": "2025-07-09T10:21:20.971649Z",
     "iopub.status.busy": "2025-07-09T10:21:20.971195Z",
     "iopub.status.idle": "2025-07-09T10:21:20.976059Z",
     "shell.execute_reply": "2025-07-09T10:21:20.975079Z"
    },
    "papermill": {
     "duration": 0.016483,
     "end_time": "2025-07-09T10:21:20.977788",
     "exception": false,
     "start_time": "2025-07-09T10:21:20.961305",
     "status": "completed"
    },
    "tags": []
   },
   "outputs": [],
   "source": [
    "#df1.head()"
   ]
  },
  {
   "cell_type": "markdown",
   "id": "dea05709",
   "metadata": {
    "papermill": {
     "duration": 0.009404,
     "end_time": "2025-07-09T10:21:20.996948",
     "exception": false,
     "start_time": "2025-07-09T10:21:20.987544",
     "status": "completed"
    },
    "tags": []
   },
   "source": [
    "### Feature Engineering\n",
    "\n",
    "Recall that SMILES is just a representation of the molecule structure in the form of text. This information as it is (SMILES) is not of any use to machine learning models. To make these strings/texts model-friendly so the models can learn from it, we need to transform these strings into numerical entities that will encode/capture the molecules topology (chemical, structural).\n",
    "\n",
    "This is achieved using RDkit Descriptors\n",
    "\n",
    "We'll also create Morgan fingerprints for each molecule\n",
    "\n",
    "Basically, Morgan Fingerprints is a representation of a molecule structure as fixed-length vectors of 0s and 1s based on the substructures found in the molecule"
   ]
  },
  {
   "cell_type": "code",
   "execution_count": 19,
   "id": "23d74bba",
   "metadata": {
    "execution": {
     "iopub.execute_input": "2025-07-09T10:21:21.016237Z",
     "iopub.status.busy": "2025-07-09T10:21:21.015817Z",
     "iopub.status.idle": "2025-07-09T10:21:21.024707Z",
     "shell.execute_reply": "2025-07-09T10:21:21.023627Z"
    },
    "papermill": {
     "duration": 0.020674,
     "end_time": "2025-07-09T10:21:21.026449",
     "exception": false,
     "start_time": "2025-07-09T10:21:21.005775",
     "status": "completed"
    },
    "tags": []
   },
   "outputs": [],
   "source": [
    "# Transform string to numerical features for modelling\n",
    "def featurize(smiles):\n",
    "    pol = Chem.MolFromSmiles(smiles)\n",
    "    \n",
    "    if pol is None:\n",
    "        return None\n",
    "\n",
    "    return {\n",
    "        \"MolWt\": Descriptors.MolWt(pol),\n",
    "        \"HeavyAtomCount\": Descriptors.HeavyAtomCount(pol),\n",
    "        \"RingCount\": rdMolDescriptors.CalcNumRings(pol),\n",
    "        \"NumRotatableBonds\": Lipinski.NumRotatableBonds(pol),\n",
    "        \"AromaticRingCounts\": rdMolDescriptors.CalcNumAromaticRings(pol),\n",
    "        \"NumAliphaticRings\": rdMolDescriptors.CalcNumAliphaticRings(pol),\n",
    "        \"LogP\": Descriptors.MolLogP(pol),\n",
    "        \"TPSA\": Descriptors.TPSA(pol),\n",
    "        \"NumHAcceptors\": Lipinski.NumHAcceptors(pol),\n",
    "        \"NumHDonors\": Lipinski.NumHDonors(pol),\n",
    "        \"BertzCT\": Descriptors.BertzCT(pol),\n",
    "        \"BalabanJ\": Descriptors.BalabanJ(pol),\n",
    "        \"EtherCount\": Fragments.fr_ether(pol),\n",
    "        \"EsterCount\": Fragments.fr_ester(pol),\n",
    "        \"AmideCount\": Fragments.fr_amide(pol),\n",
    "            \n",
    "    }\n",
    "\n",
    "def smiles_to_morgan(smiles, radius=2, nBits=1024):\n",
    "    pol = Chem.MolFromSmiles(smiles)\n",
    "    if pol is None:\n",
    "        return [0] * nBits\n",
    "\n",
    "    fp = AllChem.GetMorganFingerprintAsBitVect(pol, radius=radius, nBits=nBits)\n",
    "    return list(fp)"
   ]
  },
  {
   "cell_type": "code",
   "execution_count": 20,
   "id": "04c2c9d3",
   "metadata": {
    "execution": {
     "iopub.execute_input": "2025-07-09T10:21:21.046997Z",
     "iopub.status.busy": "2025-07-09T10:21:21.046578Z",
     "iopub.status.idle": "2025-07-09T10:21:48.921578Z",
     "shell.execute_reply": "2025-07-09T10:21:48.920655Z"
    },
    "papermill": {
     "duration": 27.887838,
     "end_time": "2025-07-09T10:21:48.923571",
     "exception": false,
     "start_time": "2025-07-09T10:21:21.035733",
     "status": "completed"
    },
    "tags": []
   },
   "outputs": [],
   "source": [
    "featurized_data = df1['SMILES'].apply(featurize)\n",
    "descriptors_df = pd.DataFrame(featurized_data.tolist())\n",
    "#===============test data=============================#\n",
    "featurized_data2 = df2['SMILES'].apply(featurize)\n",
    "descriptors_df2 = pd.DataFrame(featurized_data2.tolist())"
   ]
  },
  {
   "cell_type": "code",
   "execution_count": 21,
   "id": "b2fd6d56",
   "metadata": {
    "execution": {
     "iopub.execute_input": "2025-07-09T10:21:48.943205Z",
     "iopub.status.busy": "2025-07-09T10:21:48.942325Z",
     "iopub.status.idle": "2025-07-09T10:21:59.558116Z",
     "shell.execute_reply": "2025-07-09T10:21:59.557224Z"
    },
    "papermill": {
     "duration": 10.627341,
     "end_time": "2025-07-09T10:21:59.559943",
     "exception": false,
     "start_time": "2025-07-09T10:21:48.932602",
     "status": "completed"
    },
    "tags": []
   },
   "outputs": [
    {
     "data": {
      "text/html": [
       "<div>\n",
       "<style scoped>\n",
       "    .dataframe tbody tr th:only-of-type {\n",
       "        vertical-align: middle;\n",
       "    }\n",
       "\n",
       "    .dataframe tbody tr th {\n",
       "        vertical-align: top;\n",
       "    }\n",
       "\n",
       "    .dataframe thead th {\n",
       "        text-align: right;\n",
       "    }\n",
       "</style>\n",
       "<table border=\"1\" class=\"dataframe\">\n",
       "  <thead>\n",
       "    <tr style=\"text-align: right;\">\n",
       "      <th></th>\n",
       "      <th>Morgan_fp0</th>\n",
       "      <th>Morgan_fp1</th>\n",
       "      <th>Morgan_fp2</th>\n",
       "      <th>Morgan_fp3</th>\n",
       "      <th>Morgan_fp4</th>\n",
       "      <th>Morgan_fp5</th>\n",
       "      <th>Morgan_fp6</th>\n",
       "      <th>Morgan_fp7</th>\n",
       "      <th>Morgan_fp8</th>\n",
       "      <th>Morgan_fp9</th>\n",
       "      <th>...</th>\n",
       "      <th>Morgan_fp1014</th>\n",
       "      <th>Morgan_fp1015</th>\n",
       "      <th>Morgan_fp1016</th>\n",
       "      <th>Morgan_fp1017</th>\n",
       "      <th>Morgan_fp1018</th>\n",
       "      <th>Morgan_fp1019</th>\n",
       "      <th>Morgan_fp1020</th>\n",
       "      <th>Morgan_fp1021</th>\n",
       "      <th>Morgan_fp1022</th>\n",
       "      <th>Morgan_fp1023</th>\n",
       "    </tr>\n",
       "  </thead>\n",
       "  <tbody>\n",
       "    <tr>\n",
       "      <th>0</th>\n",
       "      <td>0</td>\n",
       "      <td>0</td>\n",
       "      <td>0</td>\n",
       "      <td>0</td>\n",
       "      <td>0</td>\n",
       "      <td>0</td>\n",
       "      <td>0</td>\n",
       "      <td>0</td>\n",
       "      <td>0</td>\n",
       "      <td>0</td>\n",
       "      <td>...</td>\n",
       "      <td>0</td>\n",
       "      <td>0</td>\n",
       "      <td>0</td>\n",
       "      <td>0</td>\n",
       "      <td>0</td>\n",
       "      <td>0</td>\n",
       "      <td>0</td>\n",
       "      <td>0</td>\n",
       "      <td>0</td>\n",
       "      <td>0</td>\n",
       "    </tr>\n",
       "    <tr>\n",
       "      <th>1</th>\n",
       "      <td>0</td>\n",
       "      <td>0</td>\n",
       "      <td>0</td>\n",
       "      <td>0</td>\n",
       "      <td>0</td>\n",
       "      <td>0</td>\n",
       "      <td>0</td>\n",
       "      <td>0</td>\n",
       "      <td>1</td>\n",
       "      <td>1</td>\n",
       "      <td>...</td>\n",
       "      <td>0</td>\n",
       "      <td>0</td>\n",
       "      <td>0</td>\n",
       "      <td>0</td>\n",
       "      <td>0</td>\n",
       "      <td>0</td>\n",
       "      <td>0</td>\n",
       "      <td>0</td>\n",
       "      <td>0</td>\n",
       "      <td>0</td>\n",
       "    </tr>\n",
       "    <tr>\n",
       "      <th>2</th>\n",
       "      <td>0</td>\n",
       "      <td>0</td>\n",
       "      <td>0</td>\n",
       "      <td>0</td>\n",
       "      <td>0</td>\n",
       "      <td>0</td>\n",
       "      <td>0</td>\n",
       "      <td>0</td>\n",
       "      <td>0</td>\n",
       "      <td>0</td>\n",
       "      <td>...</td>\n",
       "      <td>0</td>\n",
       "      <td>0</td>\n",
       "      <td>0</td>\n",
       "      <td>0</td>\n",
       "      <td>0</td>\n",
       "      <td>0</td>\n",
       "      <td>0</td>\n",
       "      <td>0</td>\n",
       "      <td>0</td>\n",
       "      <td>0</td>\n",
       "    </tr>\n",
       "  </tbody>\n",
       "</table>\n",
       "<p>3 rows × 1024 columns</p>\n",
       "</div>"
      ],
      "text/plain": [
       "   Morgan_fp0  Morgan_fp1  Morgan_fp2  Morgan_fp3  Morgan_fp4  Morgan_fp5  \\\n",
       "0           0           0           0           0           0           0   \n",
       "1           0           0           0           0           0           0   \n",
       "2           0           0           0           0           0           0   \n",
       "\n",
       "   Morgan_fp6  Morgan_fp7  Morgan_fp8  Morgan_fp9  ...  Morgan_fp1014  \\\n",
       "0           0           0           0           0  ...              0   \n",
       "1           0           0           1           1  ...              0   \n",
       "2           0           0           0           0  ...              0   \n",
       "\n",
       "   Morgan_fp1015  Morgan_fp1016  Morgan_fp1017  Morgan_fp1018  Morgan_fp1019  \\\n",
       "0              0              0              0              0              0   \n",
       "1              0              0              0              0              0   \n",
       "2              0              0              0              0              0   \n",
       "\n",
       "   Morgan_fp1020  Morgan_fp1021  Morgan_fp1022  Morgan_fp1023  \n",
       "0              0              0              0              0  \n",
       "1              0              0              0              0  \n",
       "2              0              0              0              0  \n",
       "\n",
       "[3 rows x 1024 columns]"
      ]
     },
     "execution_count": 21,
     "metadata": {},
     "output_type": "execute_result"
    }
   ],
   "source": [
    "df1['Morgan_fp'] = df1['SMILES'].apply(smiles_to_morgan)\n",
    "fp_df = pd.DataFrame(df1['Morgan_fp'].tolist(), index=df1.index, columns=[f'Morgan_fp{i}' for i in range(1024)])\n",
    "#=========================Test data====================================#\n",
    "df2['Morgan_fp'] = df2['SMILES'].apply(smiles_to_morgan)\n",
    "fp_df2 = pd.DataFrame(df2['Morgan_fp'].tolist(), index=df2.index, columns=[f'Morgan_fp{i}' for i in range(1024)])\n",
    "fp_df2.head()"
   ]
  },
  {
   "cell_type": "code",
   "execution_count": 22,
   "id": "4e53ca31",
   "metadata": {
    "execution": {
     "iopub.execute_input": "2025-07-09T10:21:59.579551Z",
     "iopub.status.busy": "2025-07-09T10:21:59.579180Z",
     "iopub.status.idle": "2025-07-09T10:21:59.707902Z",
     "shell.execute_reply": "2025-07-09T10:21:59.706926Z"
    },
    "papermill": {
     "duration": 0.140488,
     "end_time": "2025-07-09T10:21:59.709731",
     "exception": false,
     "start_time": "2025-07-09T10:21:59.569243",
     "status": "completed"
    },
    "tags": []
   },
   "outputs": [
    {
     "data": {
      "text/html": [
       "<div>\n",
       "<style scoped>\n",
       "    .dataframe tbody tr th:only-of-type {\n",
       "        vertical-align: middle;\n",
       "    }\n",
       "\n",
       "    .dataframe tbody tr th {\n",
       "        vertical-align: top;\n",
       "    }\n",
       "\n",
       "    .dataframe thead th {\n",
       "        text-align: right;\n",
       "    }\n",
       "</style>\n",
       "<table border=\"1\" class=\"dataframe\">\n",
       "  <thead>\n",
       "    <tr style=\"text-align: right;\">\n",
       "      <th></th>\n",
       "      <th>id</th>\n",
       "      <th>SMILES</th>\n",
       "      <th>Tg</th>\n",
       "      <th>FFV</th>\n",
       "      <th>Tc</th>\n",
       "      <th>Density</th>\n",
       "      <th>Rg</th>\n",
       "      <th>MolWt</th>\n",
       "      <th>HeavyAtomCount</th>\n",
       "      <th>RingCount</th>\n",
       "      <th>...</th>\n",
       "      <th>Morgan_fp1014</th>\n",
       "      <th>Morgan_fp1015</th>\n",
       "      <th>Morgan_fp1016</th>\n",
       "      <th>Morgan_fp1017</th>\n",
       "      <th>Morgan_fp1018</th>\n",
       "      <th>Morgan_fp1019</th>\n",
       "      <th>Morgan_fp1020</th>\n",
       "      <th>Morgan_fp1021</th>\n",
       "      <th>Morgan_fp1022</th>\n",
       "      <th>Morgan_fp1023</th>\n",
       "    </tr>\n",
       "  </thead>\n",
       "  <tbody>\n",
       "    <tr>\n",
       "      <th>0</th>\n",
       "      <td>87817</td>\n",
       "      <td>*CC(*)c1ccccc1C(=O)OCCCCCC</td>\n",
       "      <td>NaN</td>\n",
       "      <td>0.374645</td>\n",
       "      <td>0.205667</td>\n",
       "      <td>NaN</td>\n",
       "      <td>NaN</td>\n",
       "      <td>232.323</td>\n",
       "      <td>17</td>\n",
       "      <td>1</td>\n",
       "      <td>...</td>\n",
       "      <td>0</td>\n",
       "      <td>0</td>\n",
       "      <td>0</td>\n",
       "      <td>0</td>\n",
       "      <td>0</td>\n",
       "      <td>0</td>\n",
       "      <td>0</td>\n",
       "      <td>0</td>\n",
       "      <td>0</td>\n",
       "      <td>0</td>\n",
       "    </tr>\n",
       "    <tr>\n",
       "      <th>1</th>\n",
       "      <td>106919</td>\n",
       "      <td>*Nc1ccc([C@H](CCC)c2ccc(C3(c4ccc([C@@H](CCC)c5...</td>\n",
       "      <td>NaN</td>\n",
       "      <td>0.370410</td>\n",
       "      <td>NaN</td>\n",
       "      <td>NaN</td>\n",
       "      <td>NaN</td>\n",
       "      <td>598.919</td>\n",
       "      <td>45</td>\n",
       "      <td>5</td>\n",
       "      <td>...</td>\n",
       "      <td>0</td>\n",
       "      <td>0</td>\n",
       "      <td>0</td>\n",
       "      <td>0</td>\n",
       "      <td>0</td>\n",
       "      <td>1</td>\n",
       "      <td>0</td>\n",
       "      <td>0</td>\n",
       "      <td>0</td>\n",
       "      <td>0</td>\n",
       "    </tr>\n",
       "    <tr>\n",
       "      <th>2</th>\n",
       "      <td>388772</td>\n",
       "      <td>*Oc1ccc(S(=O)(=O)c2ccc(Oc3ccc(C4(c5ccc(Oc6ccc(...</td>\n",
       "      <td>NaN</td>\n",
       "      <td>0.378860</td>\n",
       "      <td>NaN</td>\n",
       "      <td>NaN</td>\n",
       "      <td>NaN</td>\n",
       "      <td>1003.207</td>\n",
       "      <td>73</td>\n",
       "      <td>10</td>\n",
       "      <td>...</td>\n",
       "      <td>0</td>\n",
       "      <td>0</td>\n",
       "      <td>0</td>\n",
       "      <td>0</td>\n",
       "      <td>0</td>\n",
       "      <td>0</td>\n",
       "      <td>0</td>\n",
       "      <td>0</td>\n",
       "      <td>0</td>\n",
       "      <td>0</td>\n",
       "    </tr>\n",
       "    <tr>\n",
       "      <th>3</th>\n",
       "      <td>519416</td>\n",
       "      <td>*Nc1ccc(-c2c(-c3ccc(C)cc3)c(-c3ccc(C)cc3)c(N*)...</td>\n",
       "      <td>NaN</td>\n",
       "      <td>0.387324</td>\n",
       "      <td>NaN</td>\n",
       "      <td>NaN</td>\n",
       "      <td>NaN</td>\n",
       "      <td>542.726</td>\n",
       "      <td>42</td>\n",
       "      <td>6</td>\n",
       "      <td>...</td>\n",
       "      <td>0</td>\n",
       "      <td>0</td>\n",
       "      <td>0</td>\n",
       "      <td>0</td>\n",
       "      <td>0</td>\n",
       "      <td>0</td>\n",
       "      <td>0</td>\n",
       "      <td>0</td>\n",
       "      <td>0</td>\n",
       "      <td>0</td>\n",
       "    </tr>\n",
       "    <tr>\n",
       "      <th>4</th>\n",
       "      <td>539187</td>\n",
       "      <td>*Oc1ccc(OC(=O)c2cc(OCCCCCCCCCOCC3CCCN3c3ccc([N...</td>\n",
       "      <td>NaN</td>\n",
       "      <td>0.355470</td>\n",
       "      <td>NaN</td>\n",
       "      <td>NaN</td>\n",
       "      <td>NaN</td>\n",
       "      <td>965.154</td>\n",
       "      <td>70</td>\n",
       "      <td>6</td>\n",
       "      <td>...</td>\n",
       "      <td>0</td>\n",
       "      <td>0</td>\n",
       "      <td>0</td>\n",
       "      <td>0</td>\n",
       "      <td>0</td>\n",
       "      <td>1</td>\n",
       "      <td>0</td>\n",
       "      <td>0</td>\n",
       "      <td>0</td>\n",
       "      <td>0</td>\n",
       "    </tr>\n",
       "  </tbody>\n",
       "</table>\n",
       "<p>5 rows × 1046 columns</p>\n",
       "</div>"
      ],
      "text/plain": [
       "       id                                             SMILES  Tg       FFV  \\\n",
       "0   87817                         *CC(*)c1ccccc1C(=O)OCCCCCC NaN  0.374645   \n",
       "1  106919  *Nc1ccc([C@H](CCC)c2ccc(C3(c4ccc([C@@H](CCC)c5... NaN  0.370410   \n",
       "2  388772  *Oc1ccc(S(=O)(=O)c2ccc(Oc3ccc(C4(c5ccc(Oc6ccc(... NaN  0.378860   \n",
       "3  519416  *Nc1ccc(-c2c(-c3ccc(C)cc3)c(-c3ccc(C)cc3)c(N*)... NaN  0.387324   \n",
       "4  539187  *Oc1ccc(OC(=O)c2cc(OCCCCCCCCCOCC3CCCN3c3ccc([N... NaN  0.355470   \n",
       "\n",
       "         Tc  Density  Rg     MolWt  HeavyAtomCount  RingCount  ...  \\\n",
       "0  0.205667      NaN NaN   232.323              17          1  ...   \n",
       "1       NaN      NaN NaN   598.919              45          5  ...   \n",
       "2       NaN      NaN NaN  1003.207              73         10  ...   \n",
       "3       NaN      NaN NaN   542.726              42          6  ...   \n",
       "4       NaN      NaN NaN   965.154              70          6  ...   \n",
       "\n",
       "   Morgan_fp1014  Morgan_fp1015  Morgan_fp1016  Morgan_fp1017  Morgan_fp1018  \\\n",
       "0              0              0              0              0              0   \n",
       "1              0              0              0              0              0   \n",
       "2              0              0              0              0              0   \n",
       "3              0              0              0              0              0   \n",
       "4              0              0              0              0              0   \n",
       "\n",
       "   Morgan_fp1019  Morgan_fp1020  Morgan_fp1021  Morgan_fp1022  Morgan_fp1023  \n",
       "0              0              0              0              0              0  \n",
       "1              1              0              0              0              0  \n",
       "2              0              0              0              0              0  \n",
       "3              0              0              0              0              0  \n",
       "4              1              0              0              0              0  \n",
       "\n",
       "[5 rows x 1046 columns]"
      ]
     },
     "execution_count": 22,
     "metadata": {},
     "output_type": "execute_result"
    }
   ],
   "source": [
    "#Join df1 + descriptors_df + fp_df\n",
    "train_df = pd.concat([df1,descriptors_df,fp_df], axis=1)\n",
    "train_df = train_df.drop(['Morgan_fp'], axis=1)\n",
    "#feature_columns = pd.concat([descriptors_df,fp_df], axis=1)\n",
    "\n",
    "test_df = pd.concat([df2,descriptors_df2,fp_df2], axis=1)\n",
    "test_df = test_df.drop(['Morgan_fp'], axis=1)\n",
    "#feature_columns = pd.concat([descriptors_df,fp_df], axis=1)\n",
    "\n",
    "train_df.head()"
   ]
  },
  {
   "cell_type": "markdown",
   "id": "fad8647f",
   "metadata": {
    "papermill": {
     "duration": 0.008923,
     "end_time": "2025-07-09T10:21:59.728488",
     "exception": false,
     "start_time": "2025-07-09T10:21:59.719565",
     "status": "completed"
    },
    "tags": []
   },
   "source": [
    "#### Handling Missing values\n",
    "\n",
    "To be honest, i don't know why target features should be missing. Since these target values were calculated during simulation, the target values are not missing at random. After some EDA, it could be that the simulation failed for some polymers due to one reason or the other. For example for the glass transition temperature, i saw that the average molecular weight of molecules with missing values were higher compared to those with non-missing values. This could mean that the simulation failed for polymers with a certain high molecular weight.\n",
    "\n",
    "Best way to go:\n",
    "remove polymers with missing targets and train one model for each target. A lot of data would be lost but the remaining data would be enough to train a good model based on ground truth rather than fake data."
   ]
  },
  {
   "cell_type": "code",
   "execution_count": 23,
   "id": "99d7bfe7",
   "metadata": {
    "execution": {
     "iopub.execute_input": "2025-07-09T10:21:59.749266Z",
     "iopub.status.busy": "2025-07-09T10:21:59.748836Z",
     "iopub.status.idle": "2025-07-09T10:22:00.107653Z",
     "shell.execute_reply": "2025-07-09T10:22:00.106660Z"
    },
    "papermill": {
     "duration": 0.371489,
     "end_time": "2025-07-09T10:22:00.109484",
     "exception": false,
     "start_time": "2025-07-09T10:21:59.737995",
     "status": "completed"
    },
    "tags": []
   },
   "outputs": [],
   "source": [
    "feature_cols = [col for col in train_df.columns \n",
    "                   if col not in ['Tg', 'Tc', 'FFV', 'Rg', 'Density']]\n",
    "\n",
    "#data for Tg\n",
    "\n",
    "tg_data = train_df[feature_cols + ['Tg']]\n",
    "tg_data = tg_data.dropna()\n",
    "\n",
    "#data for Tc\n",
    "tc_data = train_df[feature_cols + ['Tc']]\n",
    "tc_data = tc_data.dropna()\n",
    "\n",
    "#data for ffv\n",
    "ffv_data = train_df[feature_cols + ['FFV']]\n",
    "ffv_data = ffv_data.dropna()\n",
    "\n",
    "#data for Rg\n",
    "rg_data = train_df[feature_cols + ['Rg']]\n",
    "rg_data = rg_data.dropna()\n",
    "\n",
    "#data for density\n",
    "density_data = train_df[feature_cols + ['Density']]\n",
    "density_data = density_data.dropna()"
   ]
  },
  {
   "cell_type": "code",
   "execution_count": 24,
   "id": "5a99334a",
   "metadata": {
    "execution": {
     "iopub.execute_input": "2025-07-09T10:22:00.130186Z",
     "iopub.status.busy": "2025-07-09T10:22:00.129783Z",
     "iopub.status.idle": "2025-07-09T10:22:00.298810Z",
     "shell.execute_reply": "2025-07-09T10:22:00.297716Z"
    },
    "papermill": {
     "duration": 0.18163,
     "end_time": "2025-07-09T10:22:00.300815",
     "exception": false,
     "start_time": "2025-07-09T10:22:00.119185",
     "status": "completed"
    },
    "tags": []
   },
   "outputs": [],
   "source": [
    "y_tg_data = tg_data['Tg']\n",
    "x_tg_data = tg_data.drop(['id','SMILES','Tg'], axis=1)\n",
    "train_x_tg, val_x_tg, train_y_tg, val_y_tg = train_test_split(x_tg_data, y_tg_data, test_size=0.1, random_state=cfg.random_state)\n",
    "\n",
    "y_tc_data = tc_data['Tc']\n",
    "x_tc_data = tc_data.drop(['id','SMILES','Tc'], axis=1)\n",
    "train_x_tc, val_x_tc, train_y_tc, val_y_tc = train_test_split(x_tc_data, y_tc_data, test_size=0.1, random_state=cfg.random_state)\n",
    "\n",
    "\n",
    "y_ffv_data = ffv_data['FFV']\n",
    "x_ffv_data = ffv_data.drop(['id','SMILES','FFV'], axis=1)\n",
    "train_x_ffv, val_x_ffv, train_y_ffv, val_y_ffv = train_test_split(x_ffv_data, y_ffv_data, test_size=0.2, random_state=cfg.random_state)\n",
    "\n",
    "\n",
    "y_rg_data = rg_data['Rg']\n",
    "x_rg_data = rg_data.drop(['id','SMILES','Rg'], axis=1)\n",
    "train_x_rg, val_x_rg, train_y_rg, val_y_rg = train_test_split(x_rg_data, y_rg_data, test_size=0.1, random_state=cfg.random_state)\n",
    "\n",
    "\n",
    "y_density_data = density_data['Density']\n",
    "x_density_data = density_data.drop(['id','SMILES','Density'], axis=1)\n",
    "train_x_den, val_x_den, train_y_den, val_y_den = train_test_split(x_density_data, y_density_data, test_size=0.1, random_state=cfg.random_state)\n"
   ]
  },
  {
   "cell_type": "code",
   "execution_count": 25,
   "id": "e3591636",
   "metadata": {
    "execution": {
     "iopub.execute_input": "2025-07-09T10:22:00.321339Z",
     "iopub.status.busy": "2025-07-09T10:22:00.320980Z",
     "iopub.status.idle": "2025-07-09T10:22:00.327880Z",
     "shell.execute_reply": "2025-07-09T10:22:00.326900Z"
    },
    "papermill": {
     "duration": 0.018999,
     "end_time": "2025-07-09T10:22:00.329544",
     "exception": false,
     "start_time": "2025-07-09T10:22:00.310545",
     "status": "completed"
    },
    "tags": []
   },
   "outputs": [
    {
     "data": {
      "text/plain": [
       "((551, 1039), (62, 1039), (551,), (62,))"
      ]
     },
     "execution_count": 25,
     "metadata": {},
     "output_type": "execute_result"
    }
   ],
   "source": [
    "train_x_den.shape, val_x_den.shape, train_y_den.shape, val_y_den.shape"
   ]
  },
  {
   "cell_type": "code",
   "execution_count": 26,
   "id": "3540f2e0",
   "metadata": {
    "execution": {
     "iopub.execute_input": "2025-07-09T10:22:00.350116Z",
     "iopub.status.busy": "2025-07-09T10:22:00.349719Z",
     "iopub.status.idle": "2025-07-09T10:22:00.357507Z",
     "shell.execute_reply": "2025-07-09T10:22:00.356272Z"
    },
    "papermill": {
     "duration": 0.019743,
     "end_time": "2025-07-09T10:22:00.359047",
     "exception": false,
     "start_time": "2025-07-09T10:22:00.339304",
     "status": "completed"
    },
    "tags": []
   },
   "outputs": [
    {
     "data": {
      "text/plain": [
       "'def optimize_xgb_for_target(X, y, n_trials=cfg.optuna_trials, n_splits=cfg.n_folds, random_state=cfg.random_state):\\n    def objective(trial):\\n        params = {\\n            \"max_depth\": trial.suggest_int(\"max_depth\", 3, 15),\\n            \"learning_rate\": trial.suggest_float(\"learning_rate\", 0.01, 0.2, log=True),\\n            \"n_estimators\": trial.suggest_int(\"n_estimators\", 100, 1000),\\n            \"subsample\": trial.suggest_float(\"subsample\", 0.5, 1.0),\\n            \\'colsample_bytree\\': trial.suggest_float(\\'colsample_bytree\\', 0.6, 1.0),\\n            \"reg_alpha\": trial.suggest_float(\"reg_alpha\", 1e-8, 1.0, log=True),\\n            \"reg_lambda\": trial.suggest_float(\"reg_lambda\", 1e-8, 1.0, log=True),\\n            \"min_child_weight\": trial.suggest_int(\"min_child_weight\", 1, 10),\\n            \"random_state\": random_state,\\n            \"tree_method\": \"hist\",\\n            \\'gpu_id\\': cfg.gpu_id if cfg.use_gpu else None,\\n            \\n        }\\n\\n        kf = KFold(n_splits=n_splits, shuffle=True, random_state=random_state)\\n        fold_scores = []\\n\\n        for fold, (train_idx, val_idx) in enumerate(kf.split(X)):\\n            X_train, X_val = X.iloc[train_idx], X.iloc[val_idx]\\n            y_train, y_val = y.iloc[train_idx], y.iloc[val_idx]\\n\\n            model = xgb.XGBRegressor(**params)\\n            model.fit(X_train, y_train,\\n                      eval_set=[(X_val, y_val)],\\n                      early_stopping_rounds=cfg.early_stopping,\\n                      verbose=False)\\n\\n            preds = model.predict(X_val)\\n            fold_score = mean_absolute_error(y_val, preds)\\n            fold_scores.append(fold_score)\\n\\n        # Print fold scores during optimization (optional)\\n        print(f\"Trial {trial.number}: Fold MAEs = {[round(s, 4) for s in fold_scores]}, Avg MAE = {np.mean(fold_scores):.4f}\")\\n        return np.mean(fold_scores)\\n\\n    study = optuna.create_study(direction=\"minimize\")\\n    study.optimize(objective, n_trials=n_trials)\\n\\n    print(\"\\n Best Hyperparameters Found:\")\\n    for k, v in study.best_params.items():\\n        print(f\"  {k}: {v}\")\\n    print(f\"\\n Best Average CV MAE: {study.best_value:.4f}\")\\n\\n    return study.best_params\\n    '"
      ]
     },
     "execution_count": 26,
     "metadata": {},
     "output_type": "execute_result"
    }
   ],
   "source": [
    "'''def optimize_xgb_for_target(X, y, n_trials=cfg.optuna_trials, n_splits=cfg.n_folds, random_state=cfg.random_state):\n",
    "    def objective(trial):\n",
    "        params = {\n",
    "            \"max_depth\": trial.suggest_int(\"max_depth\", 3, 15),\n",
    "            \"learning_rate\": trial.suggest_float(\"learning_rate\", 0.01, 0.2, log=True),\n",
    "            \"n_estimators\": trial.suggest_int(\"n_estimators\", 100, 1000),\n",
    "            \"subsample\": trial.suggest_float(\"subsample\", 0.5, 1.0),\n",
    "            'colsample_bytree': trial.suggest_float('colsample_bytree', 0.6, 1.0),\n",
    "            \"reg_alpha\": trial.suggest_float(\"reg_alpha\", 1e-8, 1.0, log=True),\n",
    "            \"reg_lambda\": trial.suggest_float(\"reg_lambda\", 1e-8, 1.0, log=True),\n",
    "            \"min_child_weight\": trial.suggest_int(\"min_child_weight\", 1, 10),\n",
    "            \"random_state\": random_state,\n",
    "            \"tree_method\": \"hist\",\n",
    "            'gpu_id': cfg.gpu_id if cfg.use_gpu else None,\n",
    "            \n",
    "        }\n",
    "\n",
    "        kf = KFold(n_splits=n_splits, shuffle=True, random_state=random_state)\n",
    "        fold_scores = []\n",
    "\n",
    "        for fold, (train_idx, val_idx) in enumerate(kf.split(X)):\n",
    "            X_train, X_val = X.iloc[train_idx], X.iloc[val_idx]\n",
    "            y_train, y_val = y.iloc[train_idx], y.iloc[val_idx]\n",
    "\n",
    "            model = xgb.XGBRegressor(**params)\n",
    "            model.fit(X_train, y_train,\n",
    "                      eval_set=[(X_val, y_val)],\n",
    "                      early_stopping_rounds=cfg.early_stopping,\n",
    "                      verbose=False)\n",
    "\n",
    "            preds = model.predict(X_val)\n",
    "            fold_score = mean_absolute_error(y_val, preds)\n",
    "            fold_scores.append(fold_score)\n",
    "\n",
    "        # Print fold scores during optimization (optional)\n",
    "        print(f\"Trial {trial.number}: Fold MAEs = {[round(s, 4) for s in fold_scores]}, Avg MAE = {np.mean(fold_scores):.4f}\")\n",
    "        return np.mean(fold_scores)\n",
    "\n",
    "    study = optuna.create_study(direction=\"minimize\")\n",
    "    study.optimize(objective, n_trials=n_trials)\n",
    "\n",
    "    print(\"\\n Best Hyperparameters Found:\")\n",
    "    for k, v in study.best_params.items():\n",
    "        print(f\"  {k}: {v}\")\n",
    "    print(f\"\\n Best Average CV MAE: {study.best_value:.4f}\")\n",
    "\n",
    "    return study.best_params\n",
    "    '''\n"
   ]
  },
  {
   "cell_type": "code",
   "execution_count": 27,
   "id": "1496a8f0",
   "metadata": {
    "execution": {
     "iopub.execute_input": "2025-07-09T10:22:00.387434Z",
     "iopub.status.busy": "2025-07-09T10:22:00.386996Z",
     "iopub.status.idle": "2025-07-09T10:22:00.392110Z",
     "shell.execute_reply": "2025-07-09T10:22:00.390933Z"
    },
    "papermill": {
     "duration": 0.018962,
     "end_time": "2025-07-09T10:22:00.393922",
     "exception": false,
     "start_time": "2025-07-09T10:22:00.374960",
     "status": "completed"
    },
    "tags": []
   },
   "outputs": [],
   "source": [
    "#best_params = optimize_xgb_for_target(train_x_tg, train_y_tg)"
   ]
  },
  {
   "cell_type": "code",
   "execution_count": 28,
   "id": "3dccc631",
   "metadata": {
    "execution": {
     "iopub.execute_input": "2025-07-09T10:22:00.416961Z",
     "iopub.status.busy": "2025-07-09T10:22:00.416570Z",
     "iopub.status.idle": "2025-07-09T10:22:00.421542Z",
     "shell.execute_reply": "2025-07-09T10:22:00.420483Z"
    },
    "papermill": {
     "duration": 0.01934,
     "end_time": "2025-07-09T10:22:00.423300",
     "exception": false,
     "start_time": "2025-07-09T10:22:00.403960",
     "status": "completed"
    },
    "tags": []
   },
   "outputs": [],
   "source": [
    "#best_params_tc = optimize_xgb_for_target(train_x_tc, train_y_tc)"
   ]
  },
  {
   "cell_type": "code",
   "execution_count": 29,
   "id": "8ca8e262",
   "metadata": {
    "execution": {
     "iopub.execute_input": "2025-07-09T10:22:00.445048Z",
     "iopub.status.busy": "2025-07-09T10:22:00.444669Z",
     "iopub.status.idle": "2025-07-09T10:22:00.449219Z",
     "shell.execute_reply": "2025-07-09T10:22:00.448334Z"
    },
    "papermill": {
     "duration": 0.016976,
     "end_time": "2025-07-09T10:22:00.450734",
     "exception": false,
     "start_time": "2025-07-09T10:22:00.433758",
     "status": "completed"
    },
    "tags": []
   },
   "outputs": [],
   "source": [
    "#best_params_rg = optimize_xgb_for_target(train_x_rg, train_y_rg)"
   ]
  },
  {
   "cell_type": "code",
   "execution_count": 30,
   "id": "edee68e7",
   "metadata": {
    "execution": {
     "iopub.execute_input": "2025-07-09T10:22:00.473267Z",
     "iopub.status.busy": "2025-07-09T10:22:00.472277Z",
     "iopub.status.idle": "2025-07-09T10:22:00.477116Z",
     "shell.execute_reply": "2025-07-09T10:22:00.476170Z"
    },
    "papermill": {
     "duration": 0.017771,
     "end_time": "2025-07-09T10:22:00.478811",
     "exception": false,
     "start_time": "2025-07-09T10:22:00.461040",
     "status": "completed"
    },
    "tags": []
   },
   "outputs": [],
   "source": [
    "#best_params_den = optimize_xgb_for_target(train_x_den, train_y_den)"
   ]
  },
  {
   "cell_type": "code",
   "execution_count": 31,
   "id": "3c4a99ce",
   "metadata": {
    "execution": {
     "iopub.execute_input": "2025-07-09T10:22:00.499829Z",
     "iopub.status.busy": "2025-07-09T10:22:00.499462Z",
     "iopub.status.idle": "2025-07-09T10:22:00.503858Z",
     "shell.execute_reply": "2025-07-09T10:22:00.503032Z"
    },
    "papermill": {
     "duration": 0.016608,
     "end_time": "2025-07-09T10:22:00.505347",
     "exception": false,
     "start_time": "2025-07-09T10:22:00.488739",
     "status": "completed"
    },
    "tags": []
   },
   "outputs": [],
   "source": [
    "#best_params_ffv = optimize_xgb_for_target(train_x_ffv, train_y_ffv)"
   ]
  },
  {
   "cell_type": "code",
   "execution_count": 32,
   "id": "0f522c28",
   "metadata": {
    "execution": {
     "iopub.execute_input": "2025-07-09T10:22:00.527594Z",
     "iopub.status.busy": "2025-07-09T10:22:00.526634Z",
     "iopub.status.idle": "2025-07-09T10:22:01.357027Z",
     "shell.execute_reply": "2025-07-09T10:22:01.356091Z"
    },
    "papermill": {
     "duration": 0.843401,
     "end_time": "2025-07-09T10:22:01.358689",
     "exception": false,
     "start_time": "2025-07-09T10:22:00.515288",
     "status": "completed"
    },
    "tags": []
   },
   "outputs": [
    {
     "data": {
      "text/html": [
       "<style>#sk-container-id-1 {color: black;background-color: white;}#sk-container-id-1 pre{padding: 0;}#sk-container-id-1 div.sk-toggleable {background-color: white;}#sk-container-id-1 label.sk-toggleable__label {cursor: pointer;display: block;width: 100%;margin-bottom: 0;padding: 0.3em;box-sizing: border-box;text-align: center;}#sk-container-id-1 label.sk-toggleable__label-arrow:before {content: \"▸\";float: left;margin-right: 0.25em;color: #696969;}#sk-container-id-1 label.sk-toggleable__label-arrow:hover:before {color: black;}#sk-container-id-1 div.sk-estimator:hover label.sk-toggleable__label-arrow:before {color: black;}#sk-container-id-1 div.sk-toggleable__content {max-height: 0;max-width: 0;overflow: hidden;text-align: left;background-color: #f0f8ff;}#sk-container-id-1 div.sk-toggleable__content pre {margin: 0.2em;color: black;border-radius: 0.25em;background-color: #f0f8ff;}#sk-container-id-1 input.sk-toggleable__control:checked~div.sk-toggleable__content {max-height: 200px;max-width: 100%;overflow: auto;}#sk-container-id-1 input.sk-toggleable__control:checked~label.sk-toggleable__label-arrow:before {content: \"▾\";}#sk-container-id-1 div.sk-estimator input.sk-toggleable__control:checked~label.sk-toggleable__label {background-color: #d4ebff;}#sk-container-id-1 div.sk-label input.sk-toggleable__control:checked~label.sk-toggleable__label {background-color: #d4ebff;}#sk-container-id-1 input.sk-hidden--visually {border: 0;clip: rect(1px 1px 1px 1px);clip: rect(1px, 1px, 1px, 1px);height: 1px;margin: -1px;overflow: hidden;padding: 0;position: absolute;width: 1px;}#sk-container-id-1 div.sk-estimator {font-family: monospace;background-color: #f0f8ff;border: 1px dotted black;border-radius: 0.25em;box-sizing: border-box;margin-bottom: 0.5em;}#sk-container-id-1 div.sk-estimator:hover {background-color: #d4ebff;}#sk-container-id-1 div.sk-parallel-item::after {content: \"\";width: 100%;border-bottom: 1px solid gray;flex-grow: 1;}#sk-container-id-1 div.sk-label:hover label.sk-toggleable__label {background-color: #d4ebff;}#sk-container-id-1 div.sk-serial::before {content: \"\";position: absolute;border-left: 1px solid gray;box-sizing: border-box;top: 0;bottom: 0;left: 50%;z-index: 0;}#sk-container-id-1 div.sk-serial {display: flex;flex-direction: column;align-items: center;background-color: white;padding-right: 0.2em;padding-left: 0.2em;position: relative;}#sk-container-id-1 div.sk-item {position: relative;z-index: 1;}#sk-container-id-1 div.sk-parallel {display: flex;align-items: stretch;justify-content: center;background-color: white;position: relative;}#sk-container-id-1 div.sk-item::before, #sk-container-id-1 div.sk-parallel-item::before {content: \"\";position: absolute;border-left: 1px solid gray;box-sizing: border-box;top: 0;bottom: 0;left: 50%;z-index: -1;}#sk-container-id-1 div.sk-parallel-item {display: flex;flex-direction: column;z-index: 1;position: relative;background-color: white;}#sk-container-id-1 div.sk-parallel-item:first-child::after {align-self: flex-end;width: 50%;}#sk-container-id-1 div.sk-parallel-item:last-child::after {align-self: flex-start;width: 50%;}#sk-container-id-1 div.sk-parallel-item:only-child::after {width: 0;}#sk-container-id-1 div.sk-dashed-wrapped {border: 1px dashed gray;margin: 0 0.4em 0.5em 0.4em;box-sizing: border-box;padding-bottom: 0.4em;background-color: white;}#sk-container-id-1 div.sk-label label {font-family: monospace;font-weight: bold;display: inline-block;line-height: 1.2em;}#sk-container-id-1 div.sk-label-container {text-align: center;}#sk-container-id-1 div.sk-container {/* jupyter's `normalize.less` sets `[hidden] { display: none; }` but bootstrap.min.css set `[hidden] { display: none !important; }` so we also need the `!important` here to be able to override the default hidden behavior on the sphinx rendered scikit-learn.org. See: https://github.com/scikit-learn/scikit-learn/issues/21755 */display: inline-block !important;position: relative;}#sk-container-id-1 div.sk-text-repr-fallback {display: none;}</style><div id=\"sk-container-id-1\" class=\"sk-top-container\"><div class=\"sk-text-repr-fallback\"><pre>XGBRegressor(base_score=None, booster=None, callbacks=None,\n",
       "             colsample_bylevel=None, colsample_bynode=None,\n",
       "             colsample_bytree=0.9784979701300981, device=None,\n",
       "             early_stopping_rounds=None, enable_categorical=False,\n",
       "             eval_metric=None, feature_types=None, gamma=None, grow_policy=None,\n",
       "             importance_type=None, interaction_constraints=None,\n",
       "             learning_rate=0.15040860215701513, max_bin=None,\n",
       "             max_cat_threshold=None, max_cat_to_onehot=None,\n",
       "             max_delta_step=None, max_depth=4, max_leaves=None,\n",
       "             min_child_weight=10, missing=nan, monotone_constraints=None,\n",
       "             multi_strategy=None, n_estimators=162, n_jobs=None,\n",
       "             num_parallel_tree=None, random_state=1, ...)</pre><b>In a Jupyter environment, please rerun this cell to show the HTML representation or trust the notebook. <br />On GitHub, the HTML representation is unable to render, please try loading this page with nbviewer.org.</b></div><div class=\"sk-container\" hidden><div class=\"sk-item\"><div class=\"sk-estimator sk-toggleable\"><input class=\"sk-toggleable__control sk-hidden--visually\" id=\"sk-estimator-id-1\" type=\"checkbox\" checked><label for=\"sk-estimator-id-1\" class=\"sk-toggleable__label sk-toggleable__label-arrow\">XGBRegressor</label><div class=\"sk-toggleable__content\"><pre>XGBRegressor(base_score=None, booster=None, callbacks=None,\n",
       "             colsample_bylevel=None, colsample_bynode=None,\n",
       "             colsample_bytree=0.9784979701300981, device=None,\n",
       "             early_stopping_rounds=None, enable_categorical=False,\n",
       "             eval_metric=None, feature_types=None, gamma=None, grow_policy=None,\n",
       "             importance_type=None, interaction_constraints=None,\n",
       "             learning_rate=0.15040860215701513, max_bin=None,\n",
       "             max_cat_threshold=None, max_cat_to_onehot=None,\n",
       "             max_delta_step=None, max_depth=4, max_leaves=None,\n",
       "             min_child_weight=10, missing=nan, monotone_constraints=None,\n",
       "             multi_strategy=None, n_estimators=162, n_jobs=None,\n",
       "             num_parallel_tree=None, random_state=1, ...)</pre></div></div></div></div></div>"
      ],
      "text/plain": [
       "XGBRegressor(base_score=None, booster=None, callbacks=None,\n",
       "             colsample_bylevel=None, colsample_bynode=None,\n",
       "             colsample_bytree=0.9784979701300981, device=None,\n",
       "             early_stopping_rounds=None, enable_categorical=False,\n",
       "             eval_metric=None, feature_types=None, gamma=None, grow_policy=None,\n",
       "             importance_type=None, interaction_constraints=None,\n",
       "             learning_rate=0.15040860215701513, max_bin=None,\n",
       "             max_cat_threshold=None, max_cat_to_onehot=None,\n",
       "             max_delta_step=None, max_depth=4, max_leaves=None,\n",
       "             min_child_weight=10, missing=nan, monotone_constraints=None,\n",
       "             multi_strategy=None, n_estimators=162, n_jobs=None,\n",
       "             num_parallel_tree=None, random_state=1, ...)"
      ]
     },
     "execution_count": 32,
     "metadata": {},
     "output_type": "execute_result"
    }
   ],
   "source": [
    "tg_model = xgb.XGBRegressor(max_depth=4,learning_rate=0.15040860215701513,n_estimators=162,subsample=0.6264768531105072,\n",
    "                            colsample_bytree=0.9784979701300981,reg_alpha=2.089812909157528e-07,reg_lambda=4.346630154191774e-06,\n",
    "                            min_child_weight=10, random_state=cfg.random_state)\n",
    "tg_model.fit(x_tg_data, y_tg_data)"
   ]
  },
  {
   "cell_type": "code",
   "execution_count": 33,
   "id": "adb9618f",
   "metadata": {
    "execution": {
     "iopub.execute_input": "2025-07-09T10:22:01.379813Z",
     "iopub.status.busy": "2025-07-09T10:22:01.379485Z",
     "iopub.status.idle": "2025-07-09T10:22:02.810571Z",
     "shell.execute_reply": "2025-07-09T10:22:02.809682Z"
    },
    "papermill": {
     "duration": 1.443267,
     "end_time": "2025-07-09T10:22:02.812242",
     "exception": false,
     "start_time": "2025-07-09T10:22:01.368975",
     "status": "completed"
    },
    "tags": []
   },
   "outputs": [
    {
     "data": {
      "text/html": [
       "<style>#sk-container-id-2 {color: black;background-color: white;}#sk-container-id-2 pre{padding: 0;}#sk-container-id-2 div.sk-toggleable {background-color: white;}#sk-container-id-2 label.sk-toggleable__label {cursor: pointer;display: block;width: 100%;margin-bottom: 0;padding: 0.3em;box-sizing: border-box;text-align: center;}#sk-container-id-2 label.sk-toggleable__label-arrow:before {content: \"▸\";float: left;margin-right: 0.25em;color: #696969;}#sk-container-id-2 label.sk-toggleable__label-arrow:hover:before {color: black;}#sk-container-id-2 div.sk-estimator:hover label.sk-toggleable__label-arrow:before {color: black;}#sk-container-id-2 div.sk-toggleable__content {max-height: 0;max-width: 0;overflow: hidden;text-align: left;background-color: #f0f8ff;}#sk-container-id-2 div.sk-toggleable__content pre {margin: 0.2em;color: black;border-radius: 0.25em;background-color: #f0f8ff;}#sk-container-id-2 input.sk-toggleable__control:checked~div.sk-toggleable__content {max-height: 200px;max-width: 100%;overflow: auto;}#sk-container-id-2 input.sk-toggleable__control:checked~label.sk-toggleable__label-arrow:before {content: \"▾\";}#sk-container-id-2 div.sk-estimator input.sk-toggleable__control:checked~label.sk-toggleable__label {background-color: #d4ebff;}#sk-container-id-2 div.sk-label input.sk-toggleable__control:checked~label.sk-toggleable__label {background-color: #d4ebff;}#sk-container-id-2 input.sk-hidden--visually {border: 0;clip: rect(1px 1px 1px 1px);clip: rect(1px, 1px, 1px, 1px);height: 1px;margin: -1px;overflow: hidden;padding: 0;position: absolute;width: 1px;}#sk-container-id-2 div.sk-estimator {font-family: monospace;background-color: #f0f8ff;border: 1px dotted black;border-radius: 0.25em;box-sizing: border-box;margin-bottom: 0.5em;}#sk-container-id-2 div.sk-estimator:hover {background-color: #d4ebff;}#sk-container-id-2 div.sk-parallel-item::after {content: \"\";width: 100%;border-bottom: 1px solid gray;flex-grow: 1;}#sk-container-id-2 div.sk-label:hover label.sk-toggleable__label {background-color: #d4ebff;}#sk-container-id-2 div.sk-serial::before {content: \"\";position: absolute;border-left: 1px solid gray;box-sizing: border-box;top: 0;bottom: 0;left: 50%;z-index: 0;}#sk-container-id-2 div.sk-serial {display: flex;flex-direction: column;align-items: center;background-color: white;padding-right: 0.2em;padding-left: 0.2em;position: relative;}#sk-container-id-2 div.sk-item {position: relative;z-index: 1;}#sk-container-id-2 div.sk-parallel {display: flex;align-items: stretch;justify-content: center;background-color: white;position: relative;}#sk-container-id-2 div.sk-item::before, #sk-container-id-2 div.sk-parallel-item::before {content: \"\";position: absolute;border-left: 1px solid gray;box-sizing: border-box;top: 0;bottom: 0;left: 50%;z-index: -1;}#sk-container-id-2 div.sk-parallel-item {display: flex;flex-direction: column;z-index: 1;position: relative;background-color: white;}#sk-container-id-2 div.sk-parallel-item:first-child::after {align-self: flex-end;width: 50%;}#sk-container-id-2 div.sk-parallel-item:last-child::after {align-self: flex-start;width: 50%;}#sk-container-id-2 div.sk-parallel-item:only-child::after {width: 0;}#sk-container-id-2 div.sk-dashed-wrapped {border: 1px dashed gray;margin: 0 0.4em 0.5em 0.4em;box-sizing: border-box;padding-bottom: 0.4em;background-color: white;}#sk-container-id-2 div.sk-label label {font-family: monospace;font-weight: bold;display: inline-block;line-height: 1.2em;}#sk-container-id-2 div.sk-label-container {text-align: center;}#sk-container-id-2 div.sk-container {/* jupyter's `normalize.less` sets `[hidden] { display: none; }` but bootstrap.min.css set `[hidden] { display: none !important; }` so we also need the `!important` here to be able to override the default hidden behavior on the sphinx rendered scikit-learn.org. See: https://github.com/scikit-learn/scikit-learn/issues/21755 */display: inline-block !important;position: relative;}#sk-container-id-2 div.sk-text-repr-fallback {display: none;}</style><div id=\"sk-container-id-2\" class=\"sk-top-container\"><div class=\"sk-text-repr-fallback\"><pre>XGBRegressor(base_score=None, booster=None, callbacks=None,\n",
       "             colsample_bylevel=None, colsample_bynode=None,\n",
       "             colsample_bytree=0.9488211584814711, device=None,\n",
       "             early_stopping_rounds=None, enable_categorical=False,\n",
       "             eval_metric=None, feature_types=None, gamma=None, grow_policy=None,\n",
       "             importance_type=None, interaction_constraints=None,\n",
       "             learning_rate=0.044525558492377486, max_bin=None,\n",
       "             max_cat_threshold=None, max_cat_to_onehot=None,\n",
       "             max_delta_step=None, max_depth=12, max_leaves=None,\n",
       "             min_child_weight=9, missing=nan, monotone_constraints=None,\n",
       "             multi_strategy=None, n_estimators=214, n_jobs=None,\n",
       "             num_parallel_tree=None, random_state=1, ...)</pre><b>In a Jupyter environment, please rerun this cell to show the HTML representation or trust the notebook. <br />On GitHub, the HTML representation is unable to render, please try loading this page with nbviewer.org.</b></div><div class=\"sk-container\" hidden><div class=\"sk-item\"><div class=\"sk-estimator sk-toggleable\"><input class=\"sk-toggleable__control sk-hidden--visually\" id=\"sk-estimator-id-2\" type=\"checkbox\" checked><label for=\"sk-estimator-id-2\" class=\"sk-toggleable__label sk-toggleable__label-arrow\">XGBRegressor</label><div class=\"sk-toggleable__content\"><pre>XGBRegressor(base_score=None, booster=None, callbacks=None,\n",
       "             colsample_bylevel=None, colsample_bynode=None,\n",
       "             colsample_bytree=0.9488211584814711, device=None,\n",
       "             early_stopping_rounds=None, enable_categorical=False,\n",
       "             eval_metric=None, feature_types=None, gamma=None, grow_policy=None,\n",
       "             importance_type=None, interaction_constraints=None,\n",
       "             learning_rate=0.044525558492377486, max_bin=None,\n",
       "             max_cat_threshold=None, max_cat_to_onehot=None,\n",
       "             max_delta_step=None, max_depth=12, max_leaves=None,\n",
       "             min_child_weight=9, missing=nan, monotone_constraints=None,\n",
       "             multi_strategy=None, n_estimators=214, n_jobs=None,\n",
       "             num_parallel_tree=None, random_state=1, ...)</pre></div></div></div></div></div>"
      ],
      "text/plain": [
       "XGBRegressor(base_score=None, booster=None, callbacks=None,\n",
       "             colsample_bylevel=None, colsample_bynode=None,\n",
       "             colsample_bytree=0.9488211584814711, device=None,\n",
       "             early_stopping_rounds=None, enable_categorical=False,\n",
       "             eval_metric=None, feature_types=None, gamma=None, grow_policy=None,\n",
       "             importance_type=None, interaction_constraints=None,\n",
       "             learning_rate=0.044525558492377486, max_bin=None,\n",
       "             max_cat_threshold=None, max_cat_to_onehot=None,\n",
       "             max_delta_step=None, max_depth=12, max_leaves=None,\n",
       "             min_child_weight=9, missing=nan, monotone_constraints=None,\n",
       "             multi_strategy=None, n_estimators=214, n_jobs=None,\n",
       "             num_parallel_tree=None, random_state=1, ...)"
      ]
     },
     "execution_count": 33,
     "metadata": {},
     "output_type": "execute_result"
    }
   ],
   "source": [
    "tc_model = xgb.XGBRegressor(max_depth=12,learning_rate=0.044525558492377486,n_estimators=214,subsample=0.7463295028003523,\n",
    "                            colsample_bytree=0.9488211584814711,reg_alpha=1.1468116137572995e-08,\n",
    "                            reg_lambda=0.000531880411719889,min_child_weight=9,random_state=cfg.random_state)\n",
    "tc_model.fit(x_tc_data,y_tc_data)"
   ]
  },
  {
   "cell_type": "code",
   "execution_count": 34,
   "id": "94f48477",
   "metadata": {
    "execution": {
     "iopub.execute_input": "2025-07-09T10:22:02.833120Z",
     "iopub.status.busy": "2025-07-09T10:22:02.832711Z",
     "iopub.status.idle": "2025-07-09T10:22:09.624431Z",
     "shell.execute_reply": "2025-07-09T10:22:09.623434Z"
    },
    "papermill": {
     "duration": 6.8041,
     "end_time": "2025-07-09T10:22:09.626482",
     "exception": false,
     "start_time": "2025-07-09T10:22:02.822382",
     "status": "completed"
    },
    "tags": []
   },
   "outputs": [
    {
     "data": {
      "text/html": [
       "<style>#sk-container-id-3 {color: black;background-color: white;}#sk-container-id-3 pre{padding: 0;}#sk-container-id-3 div.sk-toggleable {background-color: white;}#sk-container-id-3 label.sk-toggleable__label {cursor: pointer;display: block;width: 100%;margin-bottom: 0;padding: 0.3em;box-sizing: border-box;text-align: center;}#sk-container-id-3 label.sk-toggleable__label-arrow:before {content: \"▸\";float: left;margin-right: 0.25em;color: #696969;}#sk-container-id-3 label.sk-toggleable__label-arrow:hover:before {color: black;}#sk-container-id-3 div.sk-estimator:hover label.sk-toggleable__label-arrow:before {color: black;}#sk-container-id-3 div.sk-toggleable__content {max-height: 0;max-width: 0;overflow: hidden;text-align: left;background-color: #f0f8ff;}#sk-container-id-3 div.sk-toggleable__content pre {margin: 0.2em;color: black;border-radius: 0.25em;background-color: #f0f8ff;}#sk-container-id-3 input.sk-toggleable__control:checked~div.sk-toggleable__content {max-height: 200px;max-width: 100%;overflow: auto;}#sk-container-id-3 input.sk-toggleable__control:checked~label.sk-toggleable__label-arrow:before {content: \"▾\";}#sk-container-id-3 div.sk-estimator input.sk-toggleable__control:checked~label.sk-toggleable__label {background-color: #d4ebff;}#sk-container-id-3 div.sk-label input.sk-toggleable__control:checked~label.sk-toggleable__label {background-color: #d4ebff;}#sk-container-id-3 input.sk-hidden--visually {border: 0;clip: rect(1px 1px 1px 1px);clip: rect(1px, 1px, 1px, 1px);height: 1px;margin: -1px;overflow: hidden;padding: 0;position: absolute;width: 1px;}#sk-container-id-3 div.sk-estimator {font-family: monospace;background-color: #f0f8ff;border: 1px dotted black;border-radius: 0.25em;box-sizing: border-box;margin-bottom: 0.5em;}#sk-container-id-3 div.sk-estimator:hover {background-color: #d4ebff;}#sk-container-id-3 div.sk-parallel-item::after {content: \"\";width: 100%;border-bottom: 1px solid gray;flex-grow: 1;}#sk-container-id-3 div.sk-label:hover label.sk-toggleable__label {background-color: #d4ebff;}#sk-container-id-3 div.sk-serial::before {content: \"\";position: absolute;border-left: 1px solid gray;box-sizing: border-box;top: 0;bottom: 0;left: 50%;z-index: 0;}#sk-container-id-3 div.sk-serial {display: flex;flex-direction: column;align-items: center;background-color: white;padding-right: 0.2em;padding-left: 0.2em;position: relative;}#sk-container-id-3 div.sk-item {position: relative;z-index: 1;}#sk-container-id-3 div.sk-parallel {display: flex;align-items: stretch;justify-content: center;background-color: white;position: relative;}#sk-container-id-3 div.sk-item::before, #sk-container-id-3 div.sk-parallel-item::before {content: \"\";position: absolute;border-left: 1px solid gray;box-sizing: border-box;top: 0;bottom: 0;left: 50%;z-index: -1;}#sk-container-id-3 div.sk-parallel-item {display: flex;flex-direction: column;z-index: 1;position: relative;background-color: white;}#sk-container-id-3 div.sk-parallel-item:first-child::after {align-self: flex-end;width: 50%;}#sk-container-id-3 div.sk-parallel-item:last-child::after {align-self: flex-start;width: 50%;}#sk-container-id-3 div.sk-parallel-item:only-child::after {width: 0;}#sk-container-id-3 div.sk-dashed-wrapped {border: 1px dashed gray;margin: 0 0.4em 0.5em 0.4em;box-sizing: border-box;padding-bottom: 0.4em;background-color: white;}#sk-container-id-3 div.sk-label label {font-family: monospace;font-weight: bold;display: inline-block;line-height: 1.2em;}#sk-container-id-3 div.sk-label-container {text-align: center;}#sk-container-id-3 div.sk-container {/* jupyter's `normalize.less` sets `[hidden] { display: none; }` but bootstrap.min.css set `[hidden] { display: none !important; }` so we also need the `!important` here to be able to override the default hidden behavior on the sphinx rendered scikit-learn.org. See: https://github.com/scikit-learn/scikit-learn/issues/21755 */display: inline-block !important;position: relative;}#sk-container-id-3 div.sk-text-repr-fallback {display: none;}</style><div id=\"sk-container-id-3\" class=\"sk-top-container\"><div class=\"sk-text-repr-fallback\"><pre>XGBRegressor(base_score=None, booster=None, callbacks=None,\n",
       "             colsample_bylevel=None, colsample_bynode=None,\n",
       "             colsample_bytree=0.7509012395639328, device=None,\n",
       "             early_stopping_rounds=None, enable_categorical=False,\n",
       "             eval_metric=None, feature_types=None, gamma=None, grow_policy=None,\n",
       "             importance_type=None, interaction_constraints=None,\n",
       "             learning_rate=0.04036647507368534, max_bin=None,\n",
       "             max_cat_threshold=None, max_cat_to_onehot=None,\n",
       "             max_delta_step=None, max_depth=15, max_leaves=None,\n",
       "             min_child_weight=1, missing=nan, monotone_constraints=None,\n",
       "             multi_strategy=None, n_estimators=685, n_jobs=None,\n",
       "             num_parallel_tree=None, random_state=1, ...)</pre><b>In a Jupyter environment, please rerun this cell to show the HTML representation or trust the notebook. <br />On GitHub, the HTML representation is unable to render, please try loading this page with nbviewer.org.</b></div><div class=\"sk-container\" hidden><div class=\"sk-item\"><div class=\"sk-estimator sk-toggleable\"><input class=\"sk-toggleable__control sk-hidden--visually\" id=\"sk-estimator-id-3\" type=\"checkbox\" checked><label for=\"sk-estimator-id-3\" class=\"sk-toggleable__label sk-toggleable__label-arrow\">XGBRegressor</label><div class=\"sk-toggleable__content\"><pre>XGBRegressor(base_score=None, booster=None, callbacks=None,\n",
       "             colsample_bylevel=None, colsample_bynode=None,\n",
       "             colsample_bytree=0.7509012395639328, device=None,\n",
       "             early_stopping_rounds=None, enable_categorical=False,\n",
       "             eval_metric=None, feature_types=None, gamma=None, grow_policy=None,\n",
       "             importance_type=None, interaction_constraints=None,\n",
       "             learning_rate=0.04036647507368534, max_bin=None,\n",
       "             max_cat_threshold=None, max_cat_to_onehot=None,\n",
       "             max_delta_step=None, max_depth=15, max_leaves=None,\n",
       "             min_child_weight=1, missing=nan, monotone_constraints=None,\n",
       "             multi_strategy=None, n_estimators=685, n_jobs=None,\n",
       "             num_parallel_tree=None, random_state=1, ...)</pre></div></div></div></div></div>"
      ],
      "text/plain": [
       "XGBRegressor(base_score=None, booster=None, callbacks=None,\n",
       "             colsample_bylevel=None, colsample_bynode=None,\n",
       "             colsample_bytree=0.7509012395639328, device=None,\n",
       "             early_stopping_rounds=None, enable_categorical=False,\n",
       "             eval_metric=None, feature_types=None, gamma=None, grow_policy=None,\n",
       "             importance_type=None, interaction_constraints=None,\n",
       "             learning_rate=0.04036647507368534, max_bin=None,\n",
       "             max_cat_threshold=None, max_cat_to_onehot=None,\n",
       "             max_delta_step=None, max_depth=15, max_leaves=None,\n",
       "             min_child_weight=1, missing=nan, monotone_constraints=None,\n",
       "             multi_strategy=None, n_estimators=685, n_jobs=None,\n",
       "             num_parallel_tree=None, random_state=1, ...)"
      ]
     },
     "execution_count": 34,
     "metadata": {},
     "output_type": "execute_result"
    }
   ],
   "source": [
    "rg_model = xgb.XGBRegressor(max_depth=15,learning_rate=0.04036647507368534,n_estimators=685,subsample=0.6711141702316268,\n",
    "                            colsample_bytree=0.7509012395639328,reg_alpha=0.013833090657544508,reg_lambda=1.9887375521322532,\n",
    "                            min_child_weight=1, random_state=cfg.random_state)\n",
    "rg_model.fit(x_rg_data, y_rg_data)"
   ]
  },
  {
   "cell_type": "code",
   "execution_count": 35,
   "id": "6ba8b601",
   "metadata": {
    "execution": {
     "iopub.execute_input": "2025-07-09T10:22:09.647918Z",
     "iopub.status.busy": "2025-07-09T10:22:09.647620Z",
     "iopub.status.idle": "2025-07-09T10:22:13.870497Z",
     "shell.execute_reply": "2025-07-09T10:22:13.869390Z"
    },
    "papermill": {
     "duration": 4.235141,
     "end_time": "2025-07-09T10:22:13.872171",
     "exception": false,
     "start_time": "2025-07-09T10:22:09.637030",
     "status": "completed"
    },
    "tags": []
   },
   "outputs": [
    {
     "data": {
      "text/html": [
       "<style>#sk-container-id-4 {color: black;background-color: white;}#sk-container-id-4 pre{padding: 0;}#sk-container-id-4 div.sk-toggleable {background-color: white;}#sk-container-id-4 label.sk-toggleable__label {cursor: pointer;display: block;width: 100%;margin-bottom: 0;padding: 0.3em;box-sizing: border-box;text-align: center;}#sk-container-id-4 label.sk-toggleable__label-arrow:before {content: \"▸\";float: left;margin-right: 0.25em;color: #696969;}#sk-container-id-4 label.sk-toggleable__label-arrow:hover:before {color: black;}#sk-container-id-4 div.sk-estimator:hover label.sk-toggleable__label-arrow:before {color: black;}#sk-container-id-4 div.sk-toggleable__content {max-height: 0;max-width: 0;overflow: hidden;text-align: left;background-color: #f0f8ff;}#sk-container-id-4 div.sk-toggleable__content pre {margin: 0.2em;color: black;border-radius: 0.25em;background-color: #f0f8ff;}#sk-container-id-4 input.sk-toggleable__control:checked~div.sk-toggleable__content {max-height: 200px;max-width: 100%;overflow: auto;}#sk-container-id-4 input.sk-toggleable__control:checked~label.sk-toggleable__label-arrow:before {content: \"▾\";}#sk-container-id-4 div.sk-estimator input.sk-toggleable__control:checked~label.sk-toggleable__label {background-color: #d4ebff;}#sk-container-id-4 div.sk-label input.sk-toggleable__control:checked~label.sk-toggleable__label {background-color: #d4ebff;}#sk-container-id-4 input.sk-hidden--visually {border: 0;clip: rect(1px 1px 1px 1px);clip: rect(1px, 1px, 1px, 1px);height: 1px;margin: -1px;overflow: hidden;padding: 0;position: absolute;width: 1px;}#sk-container-id-4 div.sk-estimator {font-family: monospace;background-color: #f0f8ff;border: 1px dotted black;border-radius: 0.25em;box-sizing: border-box;margin-bottom: 0.5em;}#sk-container-id-4 div.sk-estimator:hover {background-color: #d4ebff;}#sk-container-id-4 div.sk-parallel-item::after {content: \"\";width: 100%;border-bottom: 1px solid gray;flex-grow: 1;}#sk-container-id-4 div.sk-label:hover label.sk-toggleable__label {background-color: #d4ebff;}#sk-container-id-4 div.sk-serial::before {content: \"\";position: absolute;border-left: 1px solid gray;box-sizing: border-box;top: 0;bottom: 0;left: 50%;z-index: 0;}#sk-container-id-4 div.sk-serial {display: flex;flex-direction: column;align-items: center;background-color: white;padding-right: 0.2em;padding-left: 0.2em;position: relative;}#sk-container-id-4 div.sk-item {position: relative;z-index: 1;}#sk-container-id-4 div.sk-parallel {display: flex;align-items: stretch;justify-content: center;background-color: white;position: relative;}#sk-container-id-4 div.sk-item::before, #sk-container-id-4 div.sk-parallel-item::before {content: \"\";position: absolute;border-left: 1px solid gray;box-sizing: border-box;top: 0;bottom: 0;left: 50%;z-index: -1;}#sk-container-id-4 div.sk-parallel-item {display: flex;flex-direction: column;z-index: 1;position: relative;background-color: white;}#sk-container-id-4 div.sk-parallel-item:first-child::after {align-self: flex-end;width: 50%;}#sk-container-id-4 div.sk-parallel-item:last-child::after {align-self: flex-start;width: 50%;}#sk-container-id-4 div.sk-parallel-item:only-child::after {width: 0;}#sk-container-id-4 div.sk-dashed-wrapped {border: 1px dashed gray;margin: 0 0.4em 0.5em 0.4em;box-sizing: border-box;padding-bottom: 0.4em;background-color: white;}#sk-container-id-4 div.sk-label label {font-family: monospace;font-weight: bold;display: inline-block;line-height: 1.2em;}#sk-container-id-4 div.sk-label-container {text-align: center;}#sk-container-id-4 div.sk-container {/* jupyter's `normalize.less` sets `[hidden] { display: none; }` but bootstrap.min.css set `[hidden] { display: none !important; }` so we also need the `!important` here to be able to override the default hidden behavior on the sphinx rendered scikit-learn.org. See: https://github.com/scikit-learn/scikit-learn/issues/21755 */display: inline-block !important;position: relative;}#sk-container-id-4 div.sk-text-repr-fallback {display: none;}</style><div id=\"sk-container-id-4\" class=\"sk-top-container\"><div class=\"sk-text-repr-fallback\"><pre>XGBRegressor(base_score=None, booster=None, callbacks=None,\n",
       "             colsample_bylevel=None, colsample_bynode=None,\n",
       "             colsample_bytree=0.7798811657441316, device=None,\n",
       "             early_stopping_rounds=None, enable_categorical=False,\n",
       "             eval_metric=None, feature_types=None, gamma=None, grow_policy=None,\n",
       "             importance_type=None, interaction_constraints=None,\n",
       "             learning_rate=0.02537552871578587, max_bin=None,\n",
       "             max_cat_threshold=None, max_cat_to_onehot=None,\n",
       "             max_delta_step=None, max_depth=9, max_leaves=None,\n",
       "             min_child_weight=2, missing=nan, monotone_constraints=None,\n",
       "             multi_strategy=None, n_estimators=675, n_jobs=None,\n",
       "             num_parallel_tree=None, random_state=1, ...)</pre><b>In a Jupyter environment, please rerun this cell to show the HTML representation or trust the notebook. <br />On GitHub, the HTML representation is unable to render, please try loading this page with nbviewer.org.</b></div><div class=\"sk-container\" hidden><div class=\"sk-item\"><div class=\"sk-estimator sk-toggleable\"><input class=\"sk-toggleable__control sk-hidden--visually\" id=\"sk-estimator-id-4\" type=\"checkbox\" checked><label for=\"sk-estimator-id-4\" class=\"sk-toggleable__label sk-toggleable__label-arrow\">XGBRegressor</label><div class=\"sk-toggleable__content\"><pre>XGBRegressor(base_score=None, booster=None, callbacks=None,\n",
       "             colsample_bylevel=None, colsample_bynode=None,\n",
       "             colsample_bytree=0.7798811657441316, device=None,\n",
       "             early_stopping_rounds=None, enable_categorical=False,\n",
       "             eval_metric=None, feature_types=None, gamma=None, grow_policy=None,\n",
       "             importance_type=None, interaction_constraints=None,\n",
       "             learning_rate=0.02537552871578587, max_bin=None,\n",
       "             max_cat_threshold=None, max_cat_to_onehot=None,\n",
       "             max_delta_step=None, max_depth=9, max_leaves=None,\n",
       "             min_child_weight=2, missing=nan, monotone_constraints=None,\n",
       "             multi_strategy=None, n_estimators=675, n_jobs=None,\n",
       "             num_parallel_tree=None, random_state=1, ...)</pre></div></div></div></div></div>"
      ],
      "text/plain": [
       "XGBRegressor(base_score=None, booster=None, callbacks=None,\n",
       "             colsample_bylevel=None, colsample_bynode=None,\n",
       "             colsample_bytree=0.7798811657441316, device=None,\n",
       "             early_stopping_rounds=None, enable_categorical=False,\n",
       "             eval_metric=None, feature_types=None, gamma=None, grow_policy=None,\n",
       "             importance_type=None, interaction_constraints=None,\n",
       "             learning_rate=0.02537552871578587, max_bin=None,\n",
       "             max_cat_threshold=None, max_cat_to_onehot=None,\n",
       "             max_delta_step=None, max_depth=9, max_leaves=None,\n",
       "             min_child_weight=2, missing=nan, monotone_constraints=None,\n",
       "             multi_strategy=None, n_estimators=675, n_jobs=None,\n",
       "             num_parallel_tree=None, random_state=1, ...)"
      ]
     },
     "execution_count": 35,
     "metadata": {},
     "output_type": "execute_result"
    }
   ],
   "source": [
    "den_model = xgb.XGBRegressor(max_depth=9,learning_rate=0.02537552871578587,n_estimators=675,subsample=0.6829242277806739,\n",
    "                             colsample_bytree=0.7798811657441316,reg_alpha=0.0715796172388684,reg_lambda=5.597600517185866e-06,\n",
    "                             min_child_weight=2, random_state=cfg.random_state)\n",
    "den_model.fit(x_density_data, y_density_data)"
   ]
  },
  {
   "cell_type": "code",
   "execution_count": 36,
   "id": "6c01153e",
   "metadata": {
    "execution": {
     "iopub.execute_input": "2025-07-09T10:22:13.894113Z",
     "iopub.status.busy": "2025-07-09T10:22:13.893800Z",
     "iopub.status.idle": "2025-07-09T10:22:28.956995Z",
     "shell.execute_reply": "2025-07-09T10:22:28.956061Z"
    },
    "papermill": {
     "duration": 15.076183,
     "end_time": "2025-07-09T10:22:28.958552",
     "exception": false,
     "start_time": "2025-07-09T10:22:13.882369",
     "status": "completed"
    },
    "tags": []
   },
   "outputs": [
    {
     "data": {
      "text/html": [
       "<style>#sk-container-id-5 {color: black;background-color: white;}#sk-container-id-5 pre{padding: 0;}#sk-container-id-5 div.sk-toggleable {background-color: white;}#sk-container-id-5 label.sk-toggleable__label {cursor: pointer;display: block;width: 100%;margin-bottom: 0;padding: 0.3em;box-sizing: border-box;text-align: center;}#sk-container-id-5 label.sk-toggleable__label-arrow:before {content: \"▸\";float: left;margin-right: 0.25em;color: #696969;}#sk-container-id-5 label.sk-toggleable__label-arrow:hover:before {color: black;}#sk-container-id-5 div.sk-estimator:hover label.sk-toggleable__label-arrow:before {color: black;}#sk-container-id-5 div.sk-toggleable__content {max-height: 0;max-width: 0;overflow: hidden;text-align: left;background-color: #f0f8ff;}#sk-container-id-5 div.sk-toggleable__content pre {margin: 0.2em;color: black;border-radius: 0.25em;background-color: #f0f8ff;}#sk-container-id-5 input.sk-toggleable__control:checked~div.sk-toggleable__content {max-height: 200px;max-width: 100%;overflow: auto;}#sk-container-id-5 input.sk-toggleable__control:checked~label.sk-toggleable__label-arrow:before {content: \"▾\";}#sk-container-id-5 div.sk-estimator input.sk-toggleable__control:checked~label.sk-toggleable__label {background-color: #d4ebff;}#sk-container-id-5 div.sk-label input.sk-toggleable__control:checked~label.sk-toggleable__label {background-color: #d4ebff;}#sk-container-id-5 input.sk-hidden--visually {border: 0;clip: rect(1px 1px 1px 1px);clip: rect(1px, 1px, 1px, 1px);height: 1px;margin: -1px;overflow: hidden;padding: 0;position: absolute;width: 1px;}#sk-container-id-5 div.sk-estimator {font-family: monospace;background-color: #f0f8ff;border: 1px dotted black;border-radius: 0.25em;box-sizing: border-box;margin-bottom: 0.5em;}#sk-container-id-5 div.sk-estimator:hover {background-color: #d4ebff;}#sk-container-id-5 div.sk-parallel-item::after {content: \"\";width: 100%;border-bottom: 1px solid gray;flex-grow: 1;}#sk-container-id-5 div.sk-label:hover label.sk-toggleable__label {background-color: #d4ebff;}#sk-container-id-5 div.sk-serial::before {content: \"\";position: absolute;border-left: 1px solid gray;box-sizing: border-box;top: 0;bottom: 0;left: 50%;z-index: 0;}#sk-container-id-5 div.sk-serial {display: flex;flex-direction: column;align-items: center;background-color: white;padding-right: 0.2em;padding-left: 0.2em;position: relative;}#sk-container-id-5 div.sk-item {position: relative;z-index: 1;}#sk-container-id-5 div.sk-parallel {display: flex;align-items: stretch;justify-content: center;background-color: white;position: relative;}#sk-container-id-5 div.sk-item::before, #sk-container-id-5 div.sk-parallel-item::before {content: \"\";position: absolute;border-left: 1px solid gray;box-sizing: border-box;top: 0;bottom: 0;left: 50%;z-index: -1;}#sk-container-id-5 div.sk-parallel-item {display: flex;flex-direction: column;z-index: 1;position: relative;background-color: white;}#sk-container-id-5 div.sk-parallel-item:first-child::after {align-self: flex-end;width: 50%;}#sk-container-id-5 div.sk-parallel-item:last-child::after {align-self: flex-start;width: 50%;}#sk-container-id-5 div.sk-parallel-item:only-child::after {width: 0;}#sk-container-id-5 div.sk-dashed-wrapped {border: 1px dashed gray;margin: 0 0.4em 0.5em 0.4em;box-sizing: border-box;padding-bottom: 0.4em;background-color: white;}#sk-container-id-5 div.sk-label label {font-family: monospace;font-weight: bold;display: inline-block;line-height: 1.2em;}#sk-container-id-5 div.sk-label-container {text-align: center;}#sk-container-id-5 div.sk-container {/* jupyter's `normalize.less` sets `[hidden] { display: none; }` but bootstrap.min.css set `[hidden] { display: none !important; }` so we also need the `!important` here to be able to override the default hidden behavior on the sphinx rendered scikit-learn.org. See: https://github.com/scikit-learn/scikit-learn/issues/21755 */display: inline-block !important;position: relative;}#sk-container-id-5 div.sk-text-repr-fallback {display: none;}</style><div id=\"sk-container-id-5\" class=\"sk-top-container\"><div class=\"sk-text-repr-fallback\"><pre>XGBRegressor(base_score=None, booster=None, callbacks=None,\n",
       "             colsample_bylevel=None, colsample_bynode=None,\n",
       "             colsample_bytree=0.8134754834293325, device=None,\n",
       "             early_stopping_rounds=None, enable_categorical=False,\n",
       "             eval_metric=None, feature_types=None, gamma=None, grow_policy=None,\n",
       "             importance_type=None, interaction_constraints=None,\n",
       "             learning_rate=0.04217144634180374, max_bin=None,\n",
       "             max_cat_threshold=None, max_cat_to_onehot=None,\n",
       "             max_delta_step=None, max_depth=8, max_leaves=None,\n",
       "             min_child_weight=2, missing=nan, monotone_constraints=None,\n",
       "             multi_strategy=None, n_estimators=913, n_jobs=None,\n",
       "             num_parallel_tree=None, random_state=1, ...)</pre><b>In a Jupyter environment, please rerun this cell to show the HTML representation or trust the notebook. <br />On GitHub, the HTML representation is unable to render, please try loading this page with nbviewer.org.</b></div><div class=\"sk-container\" hidden><div class=\"sk-item\"><div class=\"sk-estimator sk-toggleable\"><input class=\"sk-toggleable__control sk-hidden--visually\" id=\"sk-estimator-id-5\" type=\"checkbox\" checked><label for=\"sk-estimator-id-5\" class=\"sk-toggleable__label sk-toggleable__label-arrow\">XGBRegressor</label><div class=\"sk-toggleable__content\"><pre>XGBRegressor(base_score=None, booster=None, callbacks=None,\n",
       "             colsample_bylevel=None, colsample_bynode=None,\n",
       "             colsample_bytree=0.8134754834293325, device=None,\n",
       "             early_stopping_rounds=None, enable_categorical=False,\n",
       "             eval_metric=None, feature_types=None, gamma=None, grow_policy=None,\n",
       "             importance_type=None, interaction_constraints=None,\n",
       "             learning_rate=0.04217144634180374, max_bin=None,\n",
       "             max_cat_threshold=None, max_cat_to_onehot=None,\n",
       "             max_delta_step=None, max_depth=8, max_leaves=None,\n",
       "             min_child_weight=2, missing=nan, monotone_constraints=None,\n",
       "             multi_strategy=None, n_estimators=913, n_jobs=None,\n",
       "             num_parallel_tree=None, random_state=1, ...)</pre></div></div></div></div></div>"
      ],
      "text/plain": [
       "XGBRegressor(base_score=None, booster=None, callbacks=None,\n",
       "             colsample_bylevel=None, colsample_bynode=None,\n",
       "             colsample_bytree=0.8134754834293325, device=None,\n",
       "             early_stopping_rounds=None, enable_categorical=False,\n",
       "             eval_metric=None, feature_types=None, gamma=None, grow_policy=None,\n",
       "             importance_type=None, interaction_constraints=None,\n",
       "             learning_rate=0.04217144634180374, max_bin=None,\n",
       "             max_cat_threshold=None, max_cat_to_onehot=None,\n",
       "             max_delta_step=None, max_depth=8, max_leaves=None,\n",
       "             min_child_weight=2, missing=nan, monotone_constraints=None,\n",
       "             multi_strategy=None, n_estimators=913, n_jobs=None,\n",
       "             num_parallel_tree=None, random_state=1, ...)"
      ]
     },
     "execution_count": 36,
     "metadata": {},
     "output_type": "execute_result"
    }
   ],
   "source": [
    "ffv_model = xgb.XGBRegressor(max_depth=8,learning_rate=0.04217144634180374,n_estimators=913,subsample=0.6200728653565712,\n",
    "                             colsample_bytree=0.8134754834293325,reg_alpha=0.013713096174599305,reg_lambda=6.242728863633394e-05,\n",
    "                             min_child_weight=2, random_state=cfg.random_state)\n",
    "ffv_model.fit(x_ffv_data,y_ffv_data)"
   ]
  },
  {
   "cell_type": "code",
   "execution_count": 37,
   "id": "91026d7b",
   "metadata": {
    "execution": {
     "iopub.execute_input": "2025-07-09T10:22:28.980475Z",
     "iopub.status.busy": "2025-07-09T10:22:28.980141Z",
     "iopub.status.idle": "2025-07-09T10:22:28.998345Z",
     "shell.execute_reply": "2025-07-09T10:22:28.997317Z"
    },
    "papermill": {
     "duration": 0.030824,
     "end_time": "2025-07-09T10:22:28.999913",
     "exception": false,
     "start_time": "2025-07-09T10:22:28.969089",
     "status": "completed"
    },
    "tags": []
   },
   "outputs": [
    {
     "data": {
      "text/html": [
       "<div>\n",
       "<style scoped>\n",
       "    .dataframe tbody tr th:only-of-type {\n",
       "        vertical-align: middle;\n",
       "    }\n",
       "\n",
       "    .dataframe tbody tr th {\n",
       "        vertical-align: top;\n",
       "    }\n",
       "\n",
       "    .dataframe thead th {\n",
       "        text-align: right;\n",
       "    }\n",
       "</style>\n",
       "<table border=\"1\" class=\"dataframe\">\n",
       "  <thead>\n",
       "    <tr style=\"text-align: right;\">\n",
       "      <th></th>\n",
       "      <th>MolWt</th>\n",
       "      <th>HeavyAtomCount</th>\n",
       "      <th>RingCount</th>\n",
       "      <th>NumRotatableBonds</th>\n",
       "      <th>AromaticRingCounts</th>\n",
       "      <th>NumAliphaticRings</th>\n",
       "      <th>LogP</th>\n",
       "      <th>TPSA</th>\n",
       "      <th>NumHAcceptors</th>\n",
       "      <th>NumHDonors</th>\n",
       "      <th>...</th>\n",
       "      <th>Morgan_fp1014</th>\n",
       "      <th>Morgan_fp1015</th>\n",
       "      <th>Morgan_fp1016</th>\n",
       "      <th>Morgan_fp1017</th>\n",
       "      <th>Morgan_fp1018</th>\n",
       "      <th>Morgan_fp1019</th>\n",
       "      <th>Morgan_fp1020</th>\n",
       "      <th>Morgan_fp1021</th>\n",
       "      <th>Morgan_fp1022</th>\n",
       "      <th>Morgan_fp1023</th>\n",
       "    </tr>\n",
       "  </thead>\n",
       "  <tbody>\n",
       "    <tr>\n",
       "      <th>0</th>\n",
       "      <td>540.463</td>\n",
       "      <td>39</td>\n",
       "      <td>4</td>\n",
       "      <td>8</td>\n",
       "      <td>4</td>\n",
       "      <td>0</td>\n",
       "      <td>7.3603</td>\n",
       "      <td>43.18</td>\n",
       "      <td>4</td>\n",
       "      <td>0</td>\n",
       "      <td>...</td>\n",
       "      <td>0</td>\n",
       "      <td>0</td>\n",
       "      <td>0</td>\n",
       "      <td>0</td>\n",
       "      <td>0</td>\n",
       "      <td>0</td>\n",
       "      <td>0</td>\n",
       "      <td>0</td>\n",
       "      <td>0</td>\n",
       "      <td>0</td>\n",
       "    </tr>\n",
       "    <tr>\n",
       "      <th>1</th>\n",
       "      <td>510.589</td>\n",
       "      <td>39</td>\n",
       "      <td>5</td>\n",
       "      <td>9</td>\n",
       "      <td>5</td>\n",
       "      <td>0</td>\n",
       "      <td>7.2845</td>\n",
       "      <td>52.60</td>\n",
       "      <td>4</td>\n",
       "      <td>0</td>\n",
       "      <td>...</td>\n",
       "      <td>0</td>\n",
       "      <td>0</td>\n",
       "      <td>0</td>\n",
       "      <td>0</td>\n",
       "      <td>0</td>\n",
       "      <td>0</td>\n",
       "      <td>0</td>\n",
       "      <td>0</td>\n",
       "      <td>0</td>\n",
       "      <td>0</td>\n",
       "    </tr>\n",
       "    <tr>\n",
       "      <th>2</th>\n",
       "      <td>586.644</td>\n",
       "      <td>44</td>\n",
       "      <td>6</td>\n",
       "      <td>13</td>\n",
       "      <td>4</td>\n",
       "      <td>2</td>\n",
       "      <td>6.1875</td>\n",
       "      <td>93.22</td>\n",
       "      <td>6</td>\n",
       "      <td>0</td>\n",
       "      <td>...</td>\n",
       "      <td>0</td>\n",
       "      <td>0</td>\n",
       "      <td>0</td>\n",
       "      <td>0</td>\n",
       "      <td>0</td>\n",
       "      <td>0</td>\n",
       "      <td>0</td>\n",
       "      <td>0</td>\n",
       "      <td>0</td>\n",
       "      <td>0</td>\n",
       "    </tr>\n",
       "  </tbody>\n",
       "</table>\n",
       "<p>3 rows × 1039 columns</p>\n",
       "</div>"
      ],
      "text/plain": [
       "     MolWt  HeavyAtomCount  RingCount  NumRotatableBonds  AromaticRingCounts  \\\n",
       "0  540.463              39          4                  8                   4   \n",
       "1  510.589              39          5                  9                   5   \n",
       "2  586.644              44          6                 13                   4   \n",
       "\n",
       "   NumAliphaticRings    LogP   TPSA  NumHAcceptors  NumHDonors  ...  \\\n",
       "0                  0  7.3603  43.18              4           0  ...   \n",
       "1                  0  7.2845  52.60              4           0  ...   \n",
       "2                  2  6.1875  93.22              6           0  ...   \n",
       "\n",
       "   Morgan_fp1014  Morgan_fp1015  Morgan_fp1016  Morgan_fp1017  Morgan_fp1018  \\\n",
       "0              0              0              0              0              0   \n",
       "1              0              0              0              0              0   \n",
       "2              0              0              0              0              0   \n",
       "\n",
       "   Morgan_fp1019  Morgan_fp1020  Morgan_fp1021  Morgan_fp1022  Morgan_fp1023  \n",
       "0              0              0              0              0              0  \n",
       "1              0              0              0              0              0  \n",
       "2              0              0              0              0              0  \n",
       "\n",
       "[3 rows x 1039 columns]"
      ]
     },
     "execution_count": 37,
     "metadata": {},
     "output_type": "execute_result"
    }
   ],
   "source": [
    "test_df = test_df.drop(['id', 'SMILES'], axis=1)\n",
    "test_df"
   ]
  },
  {
   "cell_type": "code",
   "execution_count": 38,
   "id": "76f95cb9",
   "metadata": {
    "execution": {
     "iopub.execute_input": "2025-07-09T10:22:29.021989Z",
     "iopub.status.busy": "2025-07-09T10:22:29.021692Z",
     "iopub.status.idle": "2025-07-09T10:22:29.430968Z",
     "shell.execute_reply": "2025-07-09T10:22:29.430292Z"
    },
    "papermill": {
     "duration": 0.422309,
     "end_time": "2025-07-09T10:22:29.432830",
     "exception": false,
     "start_time": "2025-07-09T10:22:29.010521",
     "status": "completed"
    },
    "tags": []
   },
   "outputs": [],
   "source": [
    "tg_predx = tg_model.predict(test_df)\n",
    "tc_predx = tc_model.predict(test_df)\n",
    "rg_predx = rg_model.predict(test_df)\n",
    "den_predx = den_model.predict(test_df)\n",
    "ffv_predx = ffv_model.predict(test_df)"
   ]
  },
  {
   "cell_type": "code",
   "execution_count": 39,
   "id": "275b5dc4",
   "metadata": {
    "execution": {
     "iopub.execute_input": "2025-07-09T10:22:29.456008Z",
     "iopub.status.busy": "2025-07-09T10:22:29.455700Z",
     "iopub.status.idle": "2025-07-09T10:22:29.469783Z",
     "shell.execute_reply": "2025-07-09T10:22:29.468979Z"
    },
    "papermill": {
     "duration": 0.026851,
     "end_time": "2025-07-09T10:22:29.471386",
     "exception": false,
     "start_time": "2025-07-09T10:22:29.444535",
     "status": "completed"
    },
    "tags": []
   },
   "outputs": [],
   "source": [
    "sub_df=pd.read_csv('/kaggle/input/neurips-open-polymer-prediction-2025/sample_submission.csv')\n",
    "sub = sub_df.copy()\n",
    "sub['Tg'] = tg_predx\n",
    "sub['FFV'] = ffv_predx\n",
    "sub['Tc'] = tc_predx\n",
    "sub['Density'] = den_predx\n",
    "sub['Rg'] = rg_predx"
   ]
  },
  {
   "cell_type": "code",
   "execution_count": 40,
   "id": "362af138",
   "metadata": {
    "execution": {
     "iopub.execute_input": "2025-07-09T10:22:29.495122Z",
     "iopub.status.busy": "2025-07-09T10:22:29.494764Z",
     "iopub.status.idle": "2025-07-09T10:22:29.506713Z",
     "shell.execute_reply": "2025-07-09T10:22:29.505552Z"
    },
    "papermill": {
     "duration": 0.025214,
     "end_time": "2025-07-09T10:22:29.508186",
     "exception": false,
     "start_time": "2025-07-09T10:22:29.482972",
     "status": "completed"
    },
    "tags": []
   },
   "outputs": [
    {
     "data": {
      "text/html": [
       "<div>\n",
       "<style scoped>\n",
       "    .dataframe tbody tr th:only-of-type {\n",
       "        vertical-align: middle;\n",
       "    }\n",
       "\n",
       "    .dataframe tbody tr th {\n",
       "        vertical-align: top;\n",
       "    }\n",
       "\n",
       "    .dataframe thead th {\n",
       "        text-align: right;\n",
       "    }\n",
       "</style>\n",
       "<table border=\"1\" class=\"dataframe\">\n",
       "  <thead>\n",
       "    <tr style=\"text-align: right;\">\n",
       "      <th></th>\n",
       "      <th>id</th>\n",
       "      <th>Tg</th>\n",
       "      <th>FFV</th>\n",
       "      <th>Tc</th>\n",
       "      <th>Density</th>\n",
       "      <th>Rg</th>\n",
       "    </tr>\n",
       "  </thead>\n",
       "  <tbody>\n",
       "    <tr>\n",
       "      <th>0</th>\n",
       "      <td>1109053969</td>\n",
       "      <td>165.107010</td>\n",
       "      <td>0.371591</td>\n",
       "      <td>0.208152</td>\n",
       "      <td>1.237848</td>\n",
       "      <td>24.885931</td>\n",
       "    </tr>\n",
       "    <tr>\n",
       "      <th>1</th>\n",
       "      <td>1422188626</td>\n",
       "      <td>189.709351</td>\n",
       "      <td>0.376959</td>\n",
       "      <td>0.258537</td>\n",
       "      <td>1.106354</td>\n",
       "      <td>20.149303</td>\n",
       "    </tr>\n",
       "    <tr>\n",
       "      <th>2</th>\n",
       "      <td>2032016830</td>\n",
       "      <td>75.977371</td>\n",
       "      <td>0.351827</td>\n",
       "      <td>0.314886</td>\n",
       "      <td>1.094530</td>\n",
       "      <td>19.996471</td>\n",
       "    </tr>\n",
       "  </tbody>\n",
       "</table>\n",
       "</div>"
      ],
      "text/plain": [
       "           id          Tg       FFV        Tc   Density         Rg\n",
       "0  1109053969  165.107010  0.371591  0.208152  1.237848  24.885931\n",
       "1  1422188626  189.709351  0.376959  0.258537  1.106354  20.149303\n",
       "2  2032016830   75.977371  0.351827  0.314886  1.094530  19.996471"
      ]
     },
     "execution_count": 40,
     "metadata": {},
     "output_type": "execute_result"
    }
   ],
   "source": [
    "sub"
   ]
  },
  {
   "cell_type": "code",
   "execution_count": 41,
   "id": "7dd52867",
   "metadata": {
    "execution": {
     "iopub.execute_input": "2025-07-09T10:22:29.533255Z",
     "iopub.status.busy": "2025-07-09T10:22:29.532325Z",
     "iopub.status.idle": "2025-07-09T10:22:29.561553Z",
     "shell.execute_reply": "2025-07-09T10:22:29.560371Z"
    },
    "papermill": {
     "duration": 0.043794,
     "end_time": "2025-07-09T10:22:29.563604",
     "exception": false,
     "start_time": "2025-07-09T10:22:29.519810",
     "status": "completed"
    },
    "tags": []
   },
   "outputs": [],
   "source": [
    "sub.to_csv('submission.csv')"
   ]
  }
 ],
 "metadata": {
  "kaggle": {
   "accelerator": "none",
   "dataSources": [
    {
     "databundleVersionId": 12966160,
     "sourceId": 74608,
     "sourceType": "competition"
    },
    {
     "datasetId": 7678913,
     "sourceId": 12191182,
     "sourceType": "datasetVersion"
    },
    {
     "datasetId": 7690162,
     "sourceId": 12207625,
     "sourceType": "datasetVersion"
    },
    {
     "datasetId": 7709500,
     "sourceId": 12235747,
     "sourceType": "datasetVersion"
    }
   ],
   "dockerImageVersionId": 31040,
   "isGpuEnabled": false,
   "isInternetEnabled": false,
   "language": "python",
   "sourceType": "notebook"
  },
  "kernelspec": {
   "display_name": "Python 3",
   "language": "python",
   "name": "python3"
  },
  "language_info": {
   "codemirror_mode": {
    "name": "ipython",
    "version": 3
   },
   "file_extension": ".py",
   "mimetype": "text/x-python",
   "name": "python",
   "nbconvert_exporter": "python",
   "pygments_lexer": "ipython3",
   "version": "3.11.11"
  },
  "papermill": {
   "default_parameters": {},
   "duration": 94.224657,
   "end_time": "2025-07-09T10:22:30.799512",
   "environment_variables": {},
   "exception": null,
   "input_path": "__notebook__.ipynb",
   "output_path": "__notebook__.ipynb",
   "parameters": {},
   "start_time": "2025-07-09T10:20:56.574855",
   "version": "2.6.0"
  }
 },
 "nbformat": 4,
 "nbformat_minor": 5
}
